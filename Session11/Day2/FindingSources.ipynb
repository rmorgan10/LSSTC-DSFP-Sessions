{
 "cells": [
  {
   "cell_type": "markdown",
   "metadata": {},
   "source": [
    "# Background Subtraction and Source Detection\n",
    "\n",
    "\n",
    "**Version 0.1**\n",
    "\n",
    "By Yusra AlSayyad (Princeton University)"
   ]
  },
  {
   "cell_type": "markdown",
   "metadata": {},
   "source": [
    "Note: for portability, the examples in this notebook are one-dimensional and avoid using libraries. In practice on real astronomical images, I recommend using a library for astronomical image processing, e.g. AstroPy or the LSST Stack. \n",
    "\n",
    "## Background Estimation\n",
    "\n",
    "A prerequisite to this notebook is the `introductionToBasicStellarPhotometry.ipynb` notebook. We're going to use the same single stellar simulation, but with increasingly complex backgrounds.\n",
    "\n",
    "\n",
    "First, setup the simulation and necessary imports"
   ]
  },
  {
   "cell_type": "code",
   "execution_count": 1,
   "metadata": {},
   "outputs": [],
   "source": [
    "import numpy as np\n",
    "import matplotlib.pyplot as plt\n",
    "from scipy.stats import norm\n",
    "from matplotlib.ticker import MultipleLocator\n",
    "\n",
    "%matplotlib notebook"
   ]
  },
  {
   "cell_type": "code",
   "execution_count": 2,
   "metadata": {},
   "outputs": [],
   "source": [
    "def pixel_plot(pix, counts, fig=None, ax=None): \n",
    "    '''Make a pixelated 1D plot'''\n",
    "    if fig is None and ax is None:\n",
    "        fig, ax = plt.subplots()\n",
    "    \n",
    "    ax.step(pix, counts, \n",
    "            where='post')\n",
    "    \n",
    "    ax.set_xlabel('pixel number')\n",
    "    ax.set_ylabel('relative counts')\n",
    "    ax.xaxis.set_minor_locator(MultipleLocator(1))\n",
    "    ax.xaxis.set_major_locator(MultipleLocator(5))\n",
    "    fig.tight_layout()\n",
    "    return fig, ax"
   ]
  },
  {
   "cell_type": "code",
   "execution_count": 3,
   "metadata": {},
   "outputs": [],
   "source": [
    "# Define your PSF function phi()\n",
    "# It is sufficient to copy and paste from\n",
    "# your introductionToBasicStellarPhotometry noteboook\n",
    "\n",
    "from scipy.stats import norm\n",
    "\n",
    "def phi(x, mu, fwhm):\n",
    "    \"\"\"Evalute the 1d PSF N(mu, sigma^2) along x\n",
    "    \n",
    "    Parameters\n",
    "    ----------\n",
    "    x : array-like of shape (n_pixels,)\n",
    "        detector pixel number\n",
    "    mu : float\n",
    "        mean position of the 1D star\n",
    "    fwhm : float\n",
    "        Full-width half-maximum of the stellar profile on the detector\n",
    "    \n",
    "    Returns\n",
    "    -------\n",
    "    flux : array-like of shape (n_pixels,)\n",
    "        Flux in each pixel of the input array\n",
    "    \"\"\"\n",
    "    sigma = fwhm / (2 * np.sqrt(2 * np.log(2)))  \n",
    "    flux = norm(loc=mu, scale=sigma)\n",
    "    return flux.pdf(x)\n",
    "\n",
    "\n",
    "# Define your image simulation function to\n",
    "# It is sufficient to copy and paste from\n",
    "# your introductionToBasicStellarPhotometry noteboook\n",
    "# Note that the background S should now be supplied as \n",
    "# an array of length (S) or a constant. \n",
    "\n",
    "def simulate(x, mu, fwhm, S, F):\n",
    "    \"\"\"simulate a noisy stellar signal\n",
    "    \n",
    "    Parameters\n",
    "    ----------\n",
    "    x : array-like\n",
    "        detector pixel number\n",
    "    mu : float\n",
    "        mean position of the 1D star\n",
    "    fwhm : float\n",
    "        Full-width half-maximum of the stellar profile on the detector\n",
    "    S : float or array-like of len(x)\n",
    "        Sky background for each pixel\n",
    "    F : float\n",
    "        Total stellar flux\n",
    "    \n",
    "    Returns\n",
    "    -------\n",
    "    noisy_counts : array-like (same shape as x)\n",
    "        the (noisy) number of counts in each pixel\n",
    "    \"\"\"\n",
    "    flux = phi(x, mu, fwhm)\n",
    "    signal = flux * F + S\n",
    "    \n",
    "    noisy_counts = np.random.normal(loc=signal, scale=np.sqrt(signal)) \n",
    "    \n",
    "    return noisy_counts   \n"
   ]
  },
  {
   "cell_type": "markdown",
   "metadata": {},
   "source": [
    "## Problem 1) Simple 1-D Background Estimation\n",
    "\n",
    "\n",
    "### Problem 1.1) Estimate a the background as a constant offset (order = 0)\n",
    "\n",
    "\n",
    "For this problem we will use a simulated star with a constant background offset of $S=100$.\n",
    "\n",
    "Background estimation is typically done by inspecting the distribution of counts in pixel bins. First inspect the distribution of counts, and pick an estimator for the background that is robust to the star (reduces biased fromthe star). Remember that we haven't done detection yet and don't know where the sources are. \n"
   ]
  },
  {
   "cell_type": "code",
   "execution_count": 5,
   "metadata": {},
   "outputs": [
    {
     "data": {
      "text/plain": [
       "(<Figure size 576x288 with 1 Axes>,\n",
       " <matplotlib.axes._subplots.AxesSubplot at 0x7f82e4c00cf8>)"
      ]
     },
     "execution_count": 5,
     "metadata": {},
     "output_type": "execute_result"
    },
    {
     "data": {
      "image/png": "[encoded data removed]",
      "text/plain": [
       "<Figure size 576x288 with 1 Axes>"
      ]
     },
     "metadata": {
      "needs_background": "light"
     },
     "output_type": "display_data"
    }
   ],
   "source": [
    "# simulate the star\n",
    "x = np.linspace(0, 100)\n",
    "mu = 35\n",
    "S = 100\n",
    "fwhm = 5\n",
    "F = 500\n",
    "\n",
    "fig = plt.figure(figsize=(8,4))\n",
    "ax = plt.subplot()\n",
    "sim_star = simulate(x, mu, fwhm, S, F)\n",
    "pixel_plot(x, sim_star, fig=fig, ax=ax)\n"
   ]
  },
  {
   "cell_type": "code",
   "execution_count": 8,
   "metadata": {},
   "outputs": [
    {
     "name": "stdout",
     "output_type": "stream",
     "text": [
      "My background estimate = 101.2389\n",
      "The mean pixel count = 104.3156\n"
     ]
    },
    {
     "data": {
      "image/png": "[encoded data removed]",
      "text/plain": [
       "<Figure size 432x288 with 1 Axes>"
      ]
     },
     "metadata": {
      "needs_background": "light"
     },
     "output_type": "display_data"
    }
   ],
   "source": [
    "# plot and inspect histogram\n",
    "\n",
    "fig = plt.figure(figsize=(6,4))\n",
    "ax = plt.subplot()\n",
    "ax.hist(sim_star)\n",
    "ax.set_xlabel(\"Photon Counts\")\n",
    "ax.set_ylabel(\"Number of Pixels\")\n",
    "\n",
    "S_estimate = np.median(sim_star)\n",
    "\n",
    "print('My background estimate = {:.4f}'.format(S_estimate))\n",
    "print('The mean pixel count = {:.4f}'.format(np.mean(sim_star)))"
   ]
  },
  {
   "cell_type": "code",
   "execution_count": 14,
   "metadata": {},
   "outputs": [
    {
     "data": {
      "text/plain": [
       "(<Figure size 432x288 with 1 Axes>,\n",
       " <matplotlib.axes._subplots.AxesSubplot at 0x7f82e63ca4a8>)"
      ]
     },
     "execution_count": 14,
     "metadata": {},
     "output_type": "execute_result"
    },
    {
     "data": {
      "image/png": "[encoded data removed]",
      "text/plain": [
       "<Figure size 432x288 with 1 Axes>"
      ]
     },
     "metadata": {
      "needs_background": "light"
     },
     "output_type": "display_data"
    }
   ],
   "source": [
    "# plot your background model over the \"image\"\n",
    "\n",
    "fig, ax = pixel_plot(x, sim_star)\n",
    "pixel_plot(x, S_estimate * np.ones(len(x)), fig=fig, ax=ax)"
   ]
  },
  {
   "cell_type": "markdown",
   "metadata": {},
   "source": [
    "### Problem 1.2) Estimate a the background as a ramp/line (order = 1)\n",
    "\n",
    "Now let's simulate a slightly more complicated background a linear ramp: $y = 3x + 100$. First simulate the same star with the new background. Then we're going to fit it using the following steps:\n",
    "* Bin the image\n",
    "* Use your robust estimator to estimate the background value per bin center\n",
    "* Fit these bin center with a model\n",
    "\n",
    "* A common simple model that astronomers use are Chebyshev polynomials. Chebyshevs have some very nice properties that prevent ringing at the edges of the fit window. Another popular way to \"model\" the bin centers is non-parametrically via interpolation."
   ]
  },
  {
   "cell_type": "code",
   "execution_count": null,
   "metadata": {},
   "outputs": [],
   "source": [
    "# Double check that your simulate function can take S optionally as array-like"
   ]
  },
  {
   "cell_type": "code",
   "execution_count": 16,
   "metadata": {},
   "outputs": [
    {
     "data": {
      "text/plain": [
       "(<Figure size 432x288 with 1 Axes>,\n",
       " <matplotlib.axes._subplots.AxesSubplot at 0x7f82e65ef080>)"
      ]
     },
     "execution_count": 16,
     "metadata": {},
     "output_type": "execute_result"
    },
    {
     "data": {
      "image/png": "[encoded data removed]",
      "text/plain": [
       "<Figure size 432x288 with 1 Axes>"
      ]
     },
     "metadata": {
      "needs_background": "light"
     },
     "output_type": "display_data"
    }
   ],
   "source": [
    "# Create and plot the image with S = 3*x + 100\n",
    "\n",
    "sim_star = simulate(x, mu, fwhm, 3*x + 100, F)\n",
    "pixel_plot(x, sim_star)"
   ]
  },
  {
   "cell_type": "code",
   "execution_count": 38,
   "metadata": {},
   "outputs": [],
   "source": [
    "# bin the image in 20-pixel bins\n",
    "bin_width_ = 20\n",
    "bin_edges_ = np.arange(x.min(), x.max() + bin_width_, bin_width_)\n",
    "\n",
    "# complete\n",
    "bin_centers = np.array([0.5 * (bin_edges_[ii] + bin_edges_[ii+1]) for ii in range(len(bin_edges_) - 1)])\n",
    "bin_values = np.array([np.mean(sim_star[(x > bin_edges_[ii]) & (x < bin_edges_[ii+1])])  for ii in range(len(bin_edges_) - 1)])"
   ]
  },
  {
   "cell_type": "code",
   "execution_count": 40,
   "metadata": {},
   "outputs": [
    {
     "data": {
      "text/plain": [
       "[<matplotlib.lines.Line2D at 0x7f82e6ea2780>]"
      ]
     },
     "execution_count": 40,
     "metadata": {},
     "output_type": "execute_result"
    },
    {
     "data": {
      "image/png": "[encoded data removed]",
      "text/plain": [
       "<Figure size 432x288 with 1 Axes>"
      ]
     },
     "metadata": {
      "needs_background": "light"
     },
     "output_type": "display_data"
    }
   ],
   "source": [
    "# Fit the bin_values vs bin_centers with a 1st-order chebyshev polynomial\n",
    "# Evaluate your model for the full image\n",
    "# hint: look up np.polynomial.chebyshev.chebfit and np.polynomial.chebyshev.chebeval\n",
    "\n",
    "coef_ = np.polynomial.chebyshev.chebfit(bin_centers, bin_values, deg=1)\n",
    "\n",
    "# Replot the image: \n",
    "fig, ax = pixel_plot(x, sim_star)\n",
    "# binned values\n",
    "ax.plot(bin_centers, bin_values, 'o')\n",
    "\n",
    "# Overplot your background model:\n",
    "ax.plot(bin_edges_, bin_edges_ * coef_[1] + coef_[0])"
   ]
  },
  {
   "cell_type": "code",
   "execution_count": 41,
   "metadata": {},
   "outputs": [
    {
     "data": {
      "image/png": "[encoded data removed]",
      "text/plain": [
       "<Figure size 432x288 with 1 Axes>"
      ]
     },
     "metadata": {
      "needs_background": "light"
     },
     "output_type": "display_data"
    }
   ],
   "source": [
    "# Finally plot your background subtracted image:\n",
    "\n",
    "fig, ax = pixel_plot(x, sim_star - (x * coef_[1] + coef_[0]))"
   ]
  },
  {
   "cell_type": "markdown",
   "metadata": {},
   "source": [
    "### Problem 1.3) Estimate a more realistic background (still in 1D)\n",
    "\n",
    "Now repeat the the exercise in problem 1.2 with a more complex background. "
   ]
  },
  {
   "cell_type": "code",
   "execution_count": 42,
   "metadata": {},
   "outputs": [
    {
     "data": {
      "image/png": "[encoded data removed]",
      "text/plain": [
       "<Figure size 432x288 with 1 Axes>"
      ]
     },
     "metadata": {
      "needs_background": "light"
     },
     "output_type": "display_data"
    }
   ],
   "source": [
    "SIGMA_PER_FWHM = 2*np.sqrt(2*np.log(2))\n",
    "\n",
    "fwhm = 5\n",
    "x = np.linspace(0, 100)\n",
    "background = 1000*norm.pdf(x, 50, 18) + 100*norm.pdf(x, 20, fwhm/SIGMA_PER_FWHM) + 100*norm.pdf(x, 60, fwhm/SIGMA_PER_FWHM)\n",
    "\n",
    "sim_star3 = simulate(x=x, mu=35, fwhm=fwhm, S=background, F=200)\n",
    "fig, ax = pixel_plot(x, sim_star3)"
   ]
  },
  {
   "cell_type": "markdown",
   "metadata": {},
   "source": [
    "#### 1.3.1) Bin the image. Plot the bin centers. What bin size did you pick? "
   ]
  },
  {
   "cell_type": "code",
   "execution_count": 96,
   "metadata": {},
   "outputs": [],
   "source": [
    "bin_width_ = 20\n",
    "bin_edges_ = np.arange(x.min(), x.max() + bin_width_, bin_width_)\n",
    "\n",
    "bin_centers = np.array([0.5 * (bin_edges_[ii] + bin_edges_[ii+1]) for ii in range(len(bin_edges_) - 1)])\n",
    "bin_values = np.array([np.mean(sim_star3[(x > bin_edges_[ii]) & (x < bin_edges_[ii+1])])  for ii in range(len(bin_edges_) - 1)])"
   ]
  },
  {
   "cell_type": "code",
   "execution_count": 97,
   "metadata": {},
   "outputs": [
    {
     "data": {
      "text/plain": [
       "[<matplotlib.lines.Line2D at 0x7f82cf89be48>]"
      ]
     },
     "execution_count": 97,
     "metadata": {},
     "output_type": "execute_result"
    },
    {
     "data": {
      "image/png": "[encoded data removed]",
      "text/plain": [
       "<Figure size 432x288 with 1 Axes>"
      ]
     },
     "metadata": {
      "needs_background": "light"
     },
     "output_type": "display_data"
    }
   ],
   "source": [
    "fig, ax = pixel_plot(x, sim_star3)\n",
    "\n",
    "# overplot the binned esimtates:\n",
    "ax.plot(bin_centers, bin_values, 'o')\n"
   ]
  },
  {
   "cell_type": "markdown",
   "metadata": {},
   "source": [
    "#### 1.3.2) Spatially model the binned estimates (bin_values vs bin_centers) as a chebyshev polynomial.\n",
    "\n",
    "Evaluate your model on the image grid and overplot.(what degree/order did you pick?)"
   ]
  },
  {
   "cell_type": "code",
   "execution_count": 101,
   "metadata": {},
   "outputs": [
    {
     "name": "stderr",
     "output_type": "stream",
     "text": [
      "/Users/rmorgan/anaconda3/lib/python3.7/site-packages/ipykernel_launcher.py:1: RankWarning: The fit may be poorly conditioned\n",
      "  \"\"\"Entry point for launching an IPython kernel.\n"
     ]
    },
    {
     "data": {
      "text/plain": [
       "[<matplotlib.lines.Line2D at 0x7f82d28c1470>]"
      ]
     },
     "execution_count": 101,
     "metadata": {},
     "output_type": "execute_result"
    },
    {
     "data": {
      "image/png": "[encoded data removed]",
      "text/plain": [
       "<Figure size 432x288 with 1 Axes>"
      ]
     },
     "metadata": {
      "needs_background": "light"
     },
     "output_type": "display_data"
    }
   ],
   "source": [
    "coef_ = np.polynomial.chebyshev.chebfit(bin_centers, bin_values, deg=5)\n",
    "\n",
    "# Replot the image: \n",
    "fig, ax = pixel_plot(x, sim_star3)\n",
    "# binned values\n",
    "ax.plot(bin_centers, bin_values, 'o')\n",
    "\n",
    "# Overplot your background model:\n",
    "model = np.sum(np.array([(bin_edges_ ** jj) * coef_[jj] for jj in range(len(coef_))]), axis=0) \n",
    "ax.plot(bin_edges_, model)"
   ]
  },
  {
   "cell_type": "markdown",
   "metadata": {},
   "source": [
    "#### 1.3.3) Subtract off the model and plot the \"background-subtracted image.\" "
   ]
  },
  {
   "cell_type": "code",
   "execution_count": 95,
   "metadata": {},
   "outputs": [
    {
     "ename": "ValueError",
     "evalue": "operands could not be broadcast together with shapes (50,) (21,) ",
     "output_type": "error",
     "traceback": [
      "\u001b[0;31m---------------------------------------------------------------------------\u001b[0m",
      "\u001b[0;31mValueError\u001b[0m                                Traceback (most recent call last)",
      "\u001b[0;32m<ipython-input-95-db67ed70cf98>\u001b[0m in \u001b[0;36m<module>\u001b[0;34m()\u001b[0m\n\u001b[1;32m      1\u001b[0m \u001b[0;31m# Plot the background subtracted image\u001b[0m\u001b[0;34m\u001b[0m\u001b[0;34m\u001b[0m\u001b[0;34m\u001b[0m\u001b[0m\n\u001b[0;32m----> 2\u001b[0;31m \u001b[0mfig\u001b[0m\u001b[0;34m,\u001b[0m \u001b[0max\u001b[0m \u001b[0;34m=\u001b[0m \u001b[0mpixel_plot\u001b[0m\u001b[0;34m(\u001b[0m\u001b[0mx\u001b[0m\u001b[0;34m,\u001b[0m \u001b[0msim_star3\u001b[0m \u001b[0;34m-\u001b[0m \u001b[0mmodel\u001b[0m\u001b[0;34m)\u001b[0m\u001b[0;34m\u001b[0m\u001b[0;34m\u001b[0m\u001b[0m\n\u001b[0m",
      "\u001b[0;31mValueError\u001b[0m: operands could not be broadcast together with shapes (50,) (21,) "
     ]
    }
   ],
   "source": [
    "# Plot the background subtracted image\n",
    "fig, ax = pixel_plot(x, sim_star3 - model)"
   ]
  },
  {
   "cell_type": "markdown",
   "metadata": {},
   "source": [
    "## Problem 2) Finding Sources\n",
    "\n",
    "Now that we have subtracted background image,  let’s look for sources.  In the lecture we focused on the matched filter interpretation.  Here we will go into the hypothesis testing and maximum likelihood interpretations. \n",
    "\n",
    "### Maximum likelihood interpretation:\n",
    "\n",
    " Assume that we know there is a point source somewhere in this image.   We want to find  to pixel that has the maximum likelihood of having a point source centered on it.  recall from session 10, the probability for an  individual observation $I_i$ is:\n",
    "\n",
    "$$P(X_i) = \\frac{1}{\\sqrt{2\\pi\\sigma_i^2}} \\exp{-\\frac{(X_i - y_i)^2}{2\\sigma_i^2}}$$\n",
    "\n",
    "Here: $X_i$ is the pixel value of pixel $i$ in the image and $y_i$ is the model prediction for that pixel. \n",
    "\n",
    "The model in this case is your `simulate()` function from the `IntroductionToBasicStellarPhotometry.ipynb` notebook: the PSF evaluated at a distance from the center multiplied by the flux amplitude: $F * \\phi(x - x_{center}) + S$ Where $F$ is the flux amplitude $\\phi$ is the PSF profile (a function of position), and $S$ is the background.\n",
    "\n",
    "Plug it in:\n",
    "$$P(X_i) = \\frac{1}{\\sqrt{2\\pi\\sigma_i^2}} \\exp{-\\frac{(X_i - (F * \\phi_i(x_{center}) + S))^2}{2\\sigma_i^2}}$$\n",
    "\n",
    "\n",
    "\n",
    "### Hypothesis test interpretation:\n",
    "\n",
    "If I were teaching source detection to my non-scientist, college stats 101 students, I'd frame the problem like this:\n",
    "\n",
    "Pretend you have an infinitely large population of pixels Say I know definitively, that the arbitrarily large population of pixels is drawn from $N(0,100)$ (has a variance of 10). I have another sample of 13 pixels. I want to tesst the hypothesis that those 13 pixels were drawn from the $N(0,100)$ pop too. \n",
    "\n",
    "Test the hypothesis that your subsample of 13 pixels were drawn from the larger sample.\n",
    "* $H_0$: $\\mu = 0$\n",
    "* $H_A$: $\\mu > 0$\n",
    "\n",
    "$$z = \\frac{\\bar{x} - \\mu}{\\sigma / \\sqrt{n}} $$\n",
    "$$z = \\frac{\\sum{x}/13 - 0}{10 /\\sqrt{13}} $$\n",
    "\n",
    "OK, if this is coming back now, let's replace this with our *real* estimator for PSF flux, which is a *weighted mean* of the pixels where the weights are the PSF $\\phi_i$. Whenever I forget the formulas for weighted means, I consult the [wikipedia page](https://en.wikipedia.org/wiki/Weighted_arithmetic_mean).\n",
    "\n",
    "Now tweak it for a weighted mean (PSF flux):\n",
    "\n",
    "$$ z = \\frac{\\sum{\\phi_i x_i} - \\mu} {\\sqrt{ \\sum{\\phi_i^2 \\sigma_i^2}}} $$\n",
    "\n",
    "Where the denominator is from the variance estimate of a weighted mean.  For constant $\\sigma$ it reduces to $\\sigma_{\\bar{x}}^2 = \\sigma^2 \\sum{\\phi^2_i}$, and for a constant $\\phi$ this reduces to $\\sigma_{\\bar{x}}^2 = \\sigma^2 /n$, the denomiator in the simple mean example above. Replace $\\mu=0$ again. \n",
    "\n",
    "$$ z = \\frac{\\sum{\\phi_i x_i}} {\\sqrt{ \\sum{\\phi_i^2 \\sigma_i^2}}} $$\n",
    "Our detection map is just the nominator for each pixel! We deal with the denominator later when choosing the thresholding, but we could just as easily divide the whole image by the denominator and have a z-score image!\n",
    "\n",
    "### 2.0) Plot the problem image"
   ]
  },
  {
   "cell_type": "code",
   "execution_count": 102,
   "metadata": {},
   "outputs": [
    {
     "data": {
      "text/plain": [
       "(<Figure size 576x288 with 1 Axes>,\n",
       " <matplotlib.axes._subplots.AxesSubplot at 0x7f82d2adbba8>)"
      ]
     },
     "execution_count": 102,
     "metadata": {},
     "output_type": "execute_result"
    },
    {
     "data": {
      "image/png": "[encoded data removed]",
      "text/plain": [
       "<Figure size 576x288 with 1 Axes>"
      ]
     },
     "metadata": {
      "needs_background": "light"
     },
     "output_type": "display_data"
    }
   ],
   "source": [
    "# set up simulation\n",
    "x = np.linspace(0, 100)\n",
    "mu = 35\n",
    "S = 100\n",
    "fwhm = 5\n",
    "F = 300\n",
    "\n",
    "fig = plt.figure(figsize=(8,4))\n",
    "ax = plt.subplot()\n",
    "sim_star = simulate(x, mu=mu, fwhm=fwhm, S=S, F=F)\n",
    "\n",
    "# To simplify this pretend \\sqrt{\\sum \\phi_i^2 \\sigma_i^2we know for sure the background = 100\n",
    "# Plots the backround subtracted image\n",
    "image = sim_star - 100\n",
    "pixel_plot(x, image, fig=fig, ax=ax)"
   ]
  },
  {
   "cell_type": "markdown",
   "metadata": {},
   "source": [
    "### 2.1) Make a kernel for the PSF.\n",
    "\n",
    "Properties of kernels: They're centered at x=0 (which also means that they have an odd number of pixels) and sum up to 1. You can use your `phi()`."
   ]
  },
  {
   "cell_type": "code",
   "execution_count": 104,
   "metadata": {},
   "outputs": [
    {
     "data": {
      "text/plain": [
       "(<Figure size 576x288 with 1 Axes>,\n",
       " <matplotlib.axes._subplots.AxesSubplot at 0x7f82d2e0ee10>)"
      ]
     },
     "execution_count": 104,
     "metadata": {},
     "output_type": "execute_result"
    },
    {
     "data": {
      "image/png": "[encoded data removed]",
      "text/plain": [
       "<Figure size 576x288 with 1 Axes>"
      ]
     },
     "metadata": {
      "needs_background": "light"
     },
     "output_type": "display_data"
    }
   ],
   "source": [
    "xx = np.linspace(-5, 5, 11)\n",
    "kernel = phi(xx, mu=0, fwhm=5) \n",
    "\n",
    "# plot your kernel\n",
    "fig = plt.figure(figsize=(8,4))\n",
    "ax = plt.subplot()\n",
    "pixel_plot(xx, kernel, fig=fig, ax=ax)"
   ]
  },
  {
   "cell_type": "markdown",
   "metadata": {},
   "source": [
    "### 2.2) Correlate the image with the PSF kernel,\n",
    "\n",
    "and plot the result.\n",
    "\n",
    "What are the tradeoffs when choosing the size of your PSF kernel? What happens if its too big? What happens if it's too small.? \n",
    "\n",
    "**hint:** `scipy.signal.convolve`"
   ]
  },
  {
   "cell_type": "code",
   "execution_count": 105,
   "metadata": {},
   "outputs": [],
   "source": [
    "from scipy.signal import convolve"
   ]
  },
  {
   "cell_type": "code",
   "execution_count": 107,
   "metadata": {},
   "outputs": [
    {
     "data": {
      "text/plain": [
       "(<Figure size 576x288 with 1 Axes>,\n",
       " <matplotlib.axes._subplots.AxesSubplot at 0x7f82d32824e0>)"
      ]
     },
     "execution_count": 107,
     "metadata": {},
     "output_type": "execute_result"
    },
    {
     "data": {
      "image/png": "[encoded data removed]",
      "text/plain": [
       "<Figure size 576x288 with 1 Axes>"
      ]
     },
     "metadata": {
      "needs_background": "light"
     },
     "output_type": "display_data"
    }
   ],
   "source": [
    "detection_image = convolve(sim_star, kernel)\n",
    "\n",
    "# plot your detection image \n",
    "# Note: pay attention to how scipy.signal.convolve handles the edges. \n",
    "fig = plt.figure(figsize=(8,4))\n",
    "ax = plt.subplot()\n",
    "pixel_plot(np.arange(len(detection_image)), detection_image, fig=fig, ax=ax)"
   ]
  },
  {
   "cell_type": "markdown",
   "metadata": {},
   "source": [
    "### 2.3) Detect pixels \n",
    "\n",
    "for which the null hypothesis that there's no source centered there is ruled out at the 5$\\sigma$ level."
   ]
  },
  {
   "cell_type": "code",
   "execution_count": 108,
   "metadata": {},
   "outputs": [
    {
     "name": "stdout",
     "output_type": "stream",
     "text": [
      "5 sigma threshold value is = 50.1995\n"
     ]
    }
   ],
   "source": [
    "# Using a robust estimator for the detection image standard deviation,\n",
    "# Compute the 5 sigma threshold\n",
    "\n",
    "threshold_value = np.sum(detection_image) / np.median(sim_star)\n",
    "print('5 sigma threshold value is = {:.4f}'.format(threshold_value))"
   ]
  },
  {
   "cell_type": "markdown",
   "metadata": {},
   "source": [
    "### 2.4) Dilate footprint to provide a window or region for the point source.\n",
    "We will use this window to compute the centroid and total flux of the star in the next two lessons. In the meantime, compute the flux like we did in introductionToStellarPhotometry assuming the input center. "
   ]
  },
  {
   "cell_type": "code",
   "execution_count": null,
   "metadata": {},
   "outputs": [],
   "source": [
    "# complete"
   ]
  },
  {
   "cell_type": "markdown",
   "metadata": {},
   "source": [
    "## Challenge problem A\n",
    "\n",
    "Combine problem 1 and 2 to iterate background estimation and source detection, masking the pixels with detections. Use the more complex background from 1.3. "
   ]
  },
  {
   "cell_type": "markdown",
   "metadata": {},
   "source": [
    "## Challenge problem B\n",
    "\n",
    "Repeat challenge problem A in two dimensions"
   ]
  },
  {
   "cell_type": "code",
   "execution_count": null,
   "metadata": {},
   "outputs": [],
   "source": []
  }
 ],
 "metadata": {
  "kernelspec": {
   "display_name": "Python 3",
   "language": "python",
   "name": "python3"
  },
  "language_info": {
   "codemirror_mode": {
    "name": "ipython",
    "version": 3
   },
   "file_extension": ".py",
   "mimetype": "text/x-python",
   "name": "python",
   "nbconvert_exporter": "python",
   "pygments_lexer": "ipython3",
   "version": "3.7.1"
  }
 },
 "nbformat": 4,
 "nbformat_minor": 2
}

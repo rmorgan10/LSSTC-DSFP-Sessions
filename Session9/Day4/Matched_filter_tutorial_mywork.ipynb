{
  "nbformat": 4,
  "nbformat_minor": 0,
  "metadata": {
    "colab": {
      "name": "Matched_filter_tutorial.ipynb",
      "version": "0.3.2",
      "provenance": []
    },
    "language_info": {
      "codemirror_mode": {
        "name": "ipython",
        "version": 3
      },
      "file_extension": ".py",
      "mimetype": "text/x-python",
      "name": "python",
      "nbconvert_exporter": "python",
      "pygments_lexer": "ipython3",
      "version": "3.6.7"
    },
    "kernelspec": {
      "display_name": "Python 3",
      "language": "python",
      "name": "python3"
    }
  },
  "cells": [
    {
      "cell_type": "markdown",
      "metadata": {
        "id": "qXwioNNgLMY3",
        "colab_type": "text"
      },
      "source": [
        "# Welcome to the matched filtering tutorial! \n",
        "\n",
        "### Installation \n",
        "\n",
        "Make sure you have PyCBC and some basic lalsuite tools installed.\n",
        "\n",
        "**Only execute the below cell if you have not already installed `pycbc`**\n",
        "\n",
        "*Note* –– if you were not able to install pycbc, or you got errors preventing your from importing pycbc, please upload this notebook to [google collaboratory](https://colab.research.google.com/notebooks/welcome.ipynb#recent=true), where you can easily `pip install lalsuite pycbc` and run the entire notebook."
      ]
    },
    {
      "cell_type": "code",
      "metadata": {
        "id": "aATq0C4dLMY7",
        "colab_type": "code",
        "outputId": "3d71db64-2fc9-4c1c-a9b5-107a17c80f97",
        "colab": {
          "base_uri": "https://localhost:8080/",
          "height": 1270
        }
      },
      "source": [
        "! pip install lalsuite pycbc"
      ],
      "execution_count": 2,
      "outputs": [
        {
          "output_type": "stream",
          "text": [
            "Collecting lalsuite\n",
            "\u001b[?25l  Downloading https://files.pythonhosted.org/packages/be/08/b493820ba45e4c251ed239ab67607ab7a43424aab7d464eaaaa64ba14529/lalsuite-6.57-cp36-cp36m-manylinux1_x86_64.whl (30.2MB)\n",
            "\u001b[K     |████████████████████████████████| 30.2MB 68.9MB/s \n",
            "\u001b[?25hCollecting pycbc\n",
            "\u001b[?25l  Downloading https://files.pythonhosted.org/packages/43/3b/16201e9fb48a213a4883225d8b8512fffcfaab96dcb17b238b689f631352/PyCBC-1.13.8.tar.gz (3.0MB)\n",
            "\u001b[K     |████████████████████████████████| 3.0MB 30.6MB/s \n",
            "\u001b[?25hCollecting lscsoft-glue (from lalsuite)\n",
            "\u001b[?25l  Downloading https://files.pythonhosted.org/packages/3b/65/e93853bc1876516db8d58f4590dba1d6b85eaf9d1bd375926ac7897e525a/lscsoft-glue-2.0.0.tar.gz (1.6MB)\n",
            "\u001b[K     |████████████████████████████████| 1.6MB 39.5MB/s \n",
            "\u001b[?25hCollecting ligo-segments (from lalsuite)\n",
            "\u001b[?25l  Downloading https://files.pythonhosted.org/packages/62/cd/225e331e95cf6aff8ba13bf9a8053b29248a5e71f7fa9bbb1f0db1eaadff/ligo-segments-1.2.0.tar.gz (48kB)\n",
            "\u001b[K     |████████████████████████████████| 51kB 17.8MB/s \n",
            "\u001b[?25hRequirement already satisfied: python-dateutil in /usr/local/lib/python3.6/dist-packages (from lalsuite) (2.5.3)\n",
            "Requirement already satisfied: scipy in /usr/local/lib/python3.6/dist-packages (from lalsuite) (1.3.0)\n",
            "Requirement already satisfied: numpy>=1.7 in /usr/local/lib/python3.6/dist-packages (from lalsuite) (1.16.4)\n",
            "Requirement already satisfied: matplotlib in /usr/local/lib/python3.6/dist-packages (from lalsuite) (3.0.3)\n",
            "Collecting Mako>=1.0.1 (from pycbc)\n",
            "\u001b[?25l  Downloading https://files.pythonhosted.org/packages/0a/af/a6d8aa7b8909a36074f517b15222e3a2fbd5ef3452c0a686e3d43043dd3b/Mako-1.0.12.tar.gz (460kB)\n",
            "\u001b[K     |████████████████████████████████| 460kB 39.5MB/s \n",
            "\u001b[?25hRequirement already satisfied: cython in /usr/local/lib/python3.6/dist-packages (from pycbc) (0.29.10)\n",
            "Requirement already satisfied: decorator>=3.4.2 in /usr/local/lib/python3.6/dist-packages (from pycbc) (4.4.0)\n",
            "Requirement already satisfied: pillow in /usr/local/lib/python3.6/dist-packages (from pycbc) (4.3.0)\n",
            "Requirement already satisfied: h5py>=2.5 in /usr/local/lib/python3.6/dist-packages (from pycbc) (2.8.0)\n",
            "Requirement already satisfied: jinja2 in /usr/local/lib/python3.6/dist-packages (from pycbc) (2.10.1)\n",
            "Collecting mpld3>=0.3 (from pycbc)\n",
            "\u001b[?25l  Downloading https://files.pythonhosted.org/packages/91/95/a52d3a83d0a29ba0d6898f6727e9858fe7a43f6c2ce81a5fe7e05f0f4912/mpld3-0.3.tar.gz (788kB)\n",
            "\u001b[K     |████████████████████████████████| 798kB 26.9MB/s \n",
            "\u001b[?25hCollecting emcee==2.2.1 (from pycbc)\n",
            "  Downloading https://files.pythonhosted.org/packages/3f/d3/7635106605dedccd08705beac53be4c43a8da1caad6be667adbf93ed0965/emcee-2.2.1.tar.gz\n",
            "Requirement already satisfied: requests>=1.2.1 in /usr/local/lib/python3.6/dist-packages (from pycbc) (2.21.0)\n",
            "Requirement already satisfied: beautifulsoup4>=4.6.0 in /usr/local/lib/python3.6/dist-packages (from pycbc) (4.6.3)\n",
            "Requirement already satisfied: six>=1.10.0 in /usr/local/lib/python3.6/dist-packages (from pycbc) (1.12.0)\n",
            "Requirement already satisfied: astropy>=2.0.3 in /usr/local/lib/python3.6/dist-packages (from pycbc) (3.0.5)\n",
            "Collecting pyOpenSSL (from lscsoft-glue->lalsuite)\n",
            "\u001b[?25l  Downloading https://files.pythonhosted.org/packages/01/c8/ceb170d81bd3941cbeb9940fc6cc2ef2ca4288d0ca8929ea4db5905d904d/pyOpenSSL-19.0.0-py2.py3-none-any.whl (53kB)\n",
            "\u001b[K     |████████████████████████████████| 61kB 19.0MB/s \n",
            "\u001b[?25hRequirement already satisfied: kiwisolver>=1.0.1 in /usr/local/lib/python3.6/dist-packages (from matplotlib->lalsuite) (1.1.0)\n",
            "Requirement already satisfied: cycler>=0.10 in /usr/local/lib/python3.6/dist-packages (from matplotlib->lalsuite) (0.10.0)\n",
            "Requirement already satisfied: pyparsing!=2.0.4,!=2.1.2,!=2.1.6,>=2.0.1 in /usr/local/lib/python3.6/dist-packages (from matplotlib->lalsuite) (2.4.0)\n",
            "Requirement already satisfied: MarkupSafe>=0.9.2 in /usr/local/lib/python3.6/dist-packages (from Mako>=1.0.1->pycbc) (1.1.1)\n",
            "Requirement already satisfied: olefile in /usr/local/lib/python3.6/dist-packages (from pillow->pycbc) (0.46)\n",
            "Requirement already satisfied: urllib3<1.25,>=1.21.1 in /usr/local/lib/python3.6/dist-packages (from requests>=1.2.1->pycbc) (1.24.3)\n",
            "Requirement already satisfied: chardet<3.1.0,>=3.0.2 in /usr/local/lib/python3.6/dist-packages (from requests>=1.2.1->pycbc) (3.0.4)\n",
            "Requirement already satisfied: certifi>=2017.4.17 in /usr/local/lib/python3.6/dist-packages (from requests>=1.2.1->pycbc) (2019.3.9)\n",
            "Requirement already satisfied: idna<2.9,>=2.5 in /usr/local/lib/python3.6/dist-packages (from requests>=1.2.1->pycbc) (2.8)\n",
            "Collecting cryptography>=2.3 (from pyOpenSSL->lscsoft-glue->lalsuite)\n",
            "\u001b[?25l  Downloading https://files.pythonhosted.org/packages/97/18/c6557f63a6abde34707196fb2cad1c6dc0dbff25a200d5044922496668a4/cryptography-2.7-cp34-abi3-manylinux1_x86_64.whl (2.3MB)\n",
            "\u001b[K     |████████████████████████████████| 2.3MB 33.6MB/s \n",
            "\u001b[?25hRequirement already satisfied: setuptools in /usr/local/lib/python3.6/dist-packages (from kiwisolver>=1.0.1->matplotlib->lalsuite) (41.0.1)\n",
            "Requirement already satisfied: cffi!=1.11.3,>=1.8 in /usr/local/lib/python3.6/dist-packages (from cryptography>=2.3->pyOpenSSL->lscsoft-glue->lalsuite) (1.12.3)\n",
            "Collecting asn1crypto>=0.21.0 (from cryptography>=2.3->pyOpenSSL->lscsoft-glue->lalsuite)\n",
            "\u001b[?25l  Downloading https://files.pythonhosted.org/packages/ea/cd/35485615f45f30a510576f1a56d1e0a7ad7bd8ab5ed7cdc600ef7cd06222/asn1crypto-0.24.0-py2.py3-none-any.whl (101kB)\n",
            "\u001b[K     |████████████████████████████████| 102kB 26.0MB/s \n",
            "\u001b[?25hRequirement already satisfied: pycparser in /usr/local/lib/python3.6/dist-packages (from cffi!=1.11.3,>=1.8->cryptography>=2.3->pyOpenSSL->lscsoft-glue->lalsuite) (2.19)\n",
            "Building wheels for collected packages: pycbc, lscsoft-glue, ligo-segments, Mako, mpld3, emcee\n",
            "  Building wheel for pycbc (setup.py) ... \u001b[?25l\u001b[?25hdone\n",
            "  Stored in directory: /root/.cache/pip/wheels/be/47/d8/cca1bc9cb29566915790a086335462eee7b8a1e7463f226b49\n",
            "  Building wheel for lscsoft-glue (setup.py) ... \u001b[?25l\u001b[?25hdone\n",
            "  Stored in directory: /root/.cache/pip/wheels/aa/fa/38/d61b002c627ca54f03755b9a288f4b1fa83291608a4bc47b7b\n",
            "  Building wheel for ligo-segments (setup.py) ... \u001b[?25l\u001b[?25hdone\n",
            "  Stored in directory: /root/.cache/pip/wheels/5d/1e/4a/ab4122baed7d67f6abce65b2b12049d3bc7fe5dad24edf89df\n",
            "  Building wheel for Mako (setup.py) ... \u001b[?25l\u001b[?25hdone\n",
            "  Stored in directory: /root/.cache/pip/wheels/b3/7b/ae/5addd138cd8175503b9782737bada30d0c88310d08c106f9bf\n",
            "  Building wheel for mpld3 (setup.py) ... \u001b[?25l\u001b[?25hdone\n",
            "  Stored in directory: /root/.cache/pip/wheels/c0/47/fb/8a64f89aecfe0059830479308ad42d62e898a3e3cefdf6ba28\n",
            "  Building wheel for emcee (setup.py) ... \u001b[?25l\u001b[?25hdone\n",
            "  Stored in directory: /root/.cache/pip/wheels/2f/5d/a5/78f84e23329ad7d9b1787c9d24371100cae74cdefe25eba50d\n",
            "Successfully built pycbc lscsoft-glue ligo-segments Mako mpld3 emcee\n",
            "\u001b[31mERROR: pycbc 1.13.8 has requirement numpy<1.15.3,>=1.13.0, but you'll have numpy 1.16.4 which is incompatible.\u001b[0m\n",
            "Installing collected packages: asn1crypto, cryptography, pyOpenSSL, ligo-segments, lscsoft-glue, lalsuite, Mako, mpld3, emcee, pycbc\n",
            "Successfully installed Mako-1.0.12 asn1crypto-0.24.0 cryptography-2.7 emcee-2.2.1 lalsuite-6.57 ligo-segments-1.2.0 lscsoft-glue-2.0.0 mpld3-0.3 pyOpenSSL-19.0.0 pycbc-1.13.8\n"
          ],
          "name": "stdout"
        }
      ]
    },
    {
      "cell_type": "markdown",
      "metadata": {
        "id": "hjxCXphvLMZE",
        "colab_type": "text"
      },
      "source": [
        "<span style=\"color:gray\">Jess notes: this notebook was made with a PyCBC 1.8.0 kernel. </span>\n",
        "\n",
        "### Learning goals \n",
        "\n",
        "With this tutorial, you learn how to:\n",
        "\n",
        "* Generate source waveforms detectable by LIGO, Virgo, KAGRA\n",
        "* Use PyCBC to run a matched filter search on gravitational wave detector data \n",
        "* Estimate the significance of a trigger given a background distribution\n",
        "* **Challenge**: Code up a trigger coincidence algorithm \n",
        "\n",
        "This tutorial borrows heavily from tutorials made for the [LIGO-Virgo Open Data Workshop](https://www.gw-openscience.org/static/workshop1/course.html) by Alex Nitz. You can find PyCBC documentation and additional examples [here](http://pycbc.org/pycbc/latest/html/py-modindex.html). \n",
        "\n",
        "Let's get started!\n",
        "\n",
        "___"
      ]
    },
    {
      "cell_type": "markdown",
      "metadata": {
        "id": "irxmLPLuLMZF",
        "colab_type": "text"
      },
      "source": [
        "## Generate a gravitational wave signal waveform\n",
        "\n",
        "We'll use a popular waveform approximant ([SOEBNRv4](https://arxiv.org/pdf/1611.03703.pdf)) to generate waveforms that would be detectable by LIGO, Virgo, or KAGRA. \n",
        "\n",
        "First we import the packages we'll need. "
      ]
    },
    {
      "cell_type": "code",
      "metadata": {
        "id": "y2wM3M_NLMZI",
        "colab_type": "code",
        "colab": {}
      },
      "source": [
        "from pycbc.waveform import get_td_waveform\n",
        "import matplotlib.pyplot as plt"
      ],
      "execution_count": 0,
      "outputs": []
    },
    {
      "cell_type": "markdown",
      "metadata": {
        "id": "pHz3BYloLMZO",
        "colab_type": "text"
      },
      "source": [
        "Let's see what these waveforms look like for different component masses. We'll assume the two compact object have masses equal to each other, and we'll set a lower frequency bound of 30 Hz (determined by the sensitivity of our detectors).\n",
        "\n",
        "We can also set a time sample rate with `get_td_waveform`. Let's try a rate of 4096 Hz. \n",
        "\n",
        "Let's make a plot of the plus polarization (`hp`) to get a feel for what the waveforms look like.\n",
        "\n",
        "*Hint* –– you may want to zoom in on the plot to see the waveforms in detail."
      ]
    },
    {
      "cell_type": "code",
      "metadata": {
        "id": "jQcS5WVxLMZQ",
        "colab_type": "code",
        "outputId": "df74f032-edf4-4615-d755-0e56fae8af17",
        "colab": {
          "base_uri": "https://localhost:8080/",
          "height": 290
        }
      },
      "source": [
        "for m in [5, 10, 30, 100]:\n",
        "    hp, hc = get_td_waveform(approximant=\"SEOBNRv4_opt\",\n",
        "                         mass1=m,\n",
        "                         mass2=m,\n",
        "                         delta_t=1.0/4096,\n",
        "                         f_lower=30)\n",
        "    plt.plot(hp.sample_times, hp, label='$M_{\\odot 1,2}=%s$' % m)\n",
        "plt.legend(loc='upper left')\n",
        "plt.ylabel('GW strain (plus polarization)')\n",
        "plt.grid()\n",
        "plt.xlabel('Time (s)')\n",
        "plt.show()"
      ],
      "execution_count": 4,
      "outputs": [
        {
          "output_type": "display_data",
          "data": {
            "image/png": "[encoded data removed]",
            "text/plain": [
              "<Figure size 432x288 with 1 Axes>"
            ]
          },
          "metadata": {
            "tags": []
          }
        }
      ]
    },
    {
      "cell_type": "markdown",
      "metadata": {
        "id": "XYPB9Ra5LMZY",
        "colab_type": "text"
      },
      "source": [
        " Now let's see what happens if we decrease the lower frequency bound from 30 Hz to 15 Hz. "
      ]
    },
    {
      "cell_type": "code",
      "metadata": {
        "id": "FHZ1ZgO_LMZY",
        "colab_type": "code",
        "outputId": "e2a3d11e-1ab0-4f3a-a8bc-920415bf85d7",
        "colab": {
          "base_uri": "https://localhost:8080/",
          "height": 290
        }
      },
      "source": [
        "for m in [5, 10, 30, 100]:\n",
        "    hp, hc = get_td_waveform(approximant=\"SEOBNRv4_opt\",\n",
        "                         mass1=m,\n",
        "                         mass2=m,\n",
        "                         delta_t=1.0/4096,\n",
        "                         f_lower= 15)\n",
        "    \n",
        "    plt.plot(hp.sample_times, hp, label='$M_{\\odot 1,2}=%s$' % m)\n",
        "plt.legend(loc='upper left')\n",
        "plt.ylabel('GW strain (plus polarization)')\n",
        "plt.grid()\n",
        "plt.xlabel('Time (s)')\n",
        "plt.show()"
      ],
      "execution_count": 8,
      "outputs": [
        {
          "output_type": "display_data",
          "data": {
            "image/png": "[encoded data removed]",
            "text/plain": [
              "<Figure size 432x288 with 1 Axes>"
            ]
          },
          "metadata": {
            "tags": []
          }
        }
      ]
    },
    {
      "cell_type": "markdown",
      "metadata": {
        "id": "Kf_uEH4HLMZg",
        "colab_type": "text"
      },
      "source": [
        "---\n",
        "\n",
        "### Exercise 1\n",
        "\n",
        "What happens to the waveform when the total mass (let's say 20 M<sub>sol</sub>) stays the same, but the mass ratio between the component masses changes? \n",
        "\n",
        "Compare the waveforms for a m<sub>1</sub> = m<sub>2</sub> = 10 M<sub>sol</sub> system, a m<sub>1</sub> = 5 M<sub>sol</sub>, m<sub>2</sub> = 15 M<sub>sol</sub>, and  a m<sub>1</sub> = 2 M<sub>sol</sub>, m<sub>2</sub> = 18 M<sub>sol</sub> system. What do you notice? \n",
        "\n"
      ]
    },
    {
      "cell_type": "code",
      "metadata": {
        "id": "StShV_MJLMZi",
        "colab_type": "code",
        "colab": {
          "base_uri": "https://localhost:8080/",
          "height": 290
        },
        "outputId": "100088e8-3f7c-4bbe-dae7-7ee20f819881"
      },
      "source": [
        "for m1, m2 in zip([10, 5, 2], [10, 15, 18]):\n",
        "    hp, hc = get_td_waveform(approximant=\"SEOBNRv4_opt\",\n",
        "                         mass1=m1,\n",
        "                         mass2=m2,\n",
        "                         delta_t=1.0/4096,\n",
        "                         f_lower= 15)\n",
        "    ratio = m1 / m2\n",
        "    plt.plot(hp.sample_times, hp, label='q = %.2f' %ratio)\n",
        "plt.legend(loc='upper left')\n",
        "plt.ylabel('GW strain (plus polarization)')\n",
        "plt.grid()\n",
        "plt.xlabel('Time (s)')\n",
        "plt.show()"
      ],
      "execution_count": 11,
      "outputs": [
        {
          "output_type": "display_data",
          "data": {
            "image/png": "[encoded data removed]",
            "text/plain": [
              "<Figure size 432x288 with 1 Axes>"
            ]
          },
          "metadata": {
            "tags": []
          }
        }
      ]
    },
    {
      "cell_type": "markdown",
      "metadata": {
        "id": "G1IZ1H7nLMZo",
        "colab_type": "text"
      },
      "source": [
        "### Exercise 2 \n",
        "\n",
        "How much longer (in signal duration) would LIGO and Virgo (and KAGRA) be able to detect a 1.4-1.4 M<sub>sol</sub> binary neutron star system if our detectors were sensitive down to 10 Hz instead of 30 Hz? ** Note you'll need to use a different waveform approximant here. Try TaylorF2.** \n",
        "\n",
        "<span style=\"color:gray\">Jess notes: this would be a major benefit of next-generation (\"3G\") ground-based gravitational wave detectors.</span>"
      ]
    },
    {
      "cell_type": "code",
      "metadata": {
        "id": "w741ZOT1LMZq",
        "colab_type": "code",
        "colab": {
          "base_uri": "https://localhost:8080/",
          "height": 290
        },
        "outputId": "ae464ba2-6530-4ffa-93b1-5c78c2531a5f"
      },
      "source": [
        "for f_lower in [10, 30]:\n",
        "    hp, hc = get_td_waveform(approximant=\"TaylorF2\",\n",
        "                         mass1=1.4,\n",
        "                         mass2=1.4,\n",
        "                         delta_t=1.0/4096,\n",
        "                         f_lower= f_lower)\n",
        "    \n",
        "    plt.plot(hp.sample_times, hp, label='f_lower = %i' % f_lower)\n",
        "plt.legend(loc='upper left')\n",
        "plt.ylabel('GW strain (plus polarization)')\n",
        "plt.grid()\n",
        "plt.xlabel('Time (s)')\n",
        "plt.show()"
      ],
      "execution_count": 13,
      "outputs": [
        {
          "output_type": "display_data",
          "data": {
            "image/png": "[encoded data removed]",
            "text/plain": [
              "<Figure size 432x288 with 1 Axes>"
            ]
          },
          "metadata": {
            "tags": []
          }
        }
      ]
    },
    {
      "cell_type": "markdown",
      "metadata": {
        "id": "Gt8GJdtFLMZw",
        "colab_type": "text"
      },
      "source": [
        "---\n",
        "\n",
        "### Distance vs. signal amplitude\n",
        "\n",
        "Let's see what happens when we scale the distance (in units of Megaparsecs) for a system with a total mass of 20 M<sub>sol</sub>. \n",
        "\n",
        "<span style=\"color:gray\">Note: redshift effects are not included here.</span>"
      ]
    },
    {
      "cell_type": "code",
      "metadata": {
        "id": "XRulioR2LMZx",
        "colab_type": "code",
        "outputId": "247caf01-ea69-4d33-f708-220382b6e419",
        "colab": {
          "base_uri": "https://localhost:8080/",
          "height": 290
        }
      },
      "source": [
        "for d in [100, 500, 1000]:\n",
        "    hp, hc = get_td_waveform(approximant=\"SEOBNRv4_opt\",\n",
        "                         mass1=10,\n",
        "                         mass2=10,\n",
        "                         delta_t=1.0/4096,\n",
        "                         f_lower=30,\n",
        "                         distance=d)\n",
        "    \n",
        "    plt.plot(hp.sample_times, hp, label='Distance=%s Mpc' % d)\n",
        "plt.grid()\n",
        "plt.xlabel('Time (s)')\n",
        "plt.ylabel('GW strain (plus polarization)')\n",
        "plt.legend(loc='upper left')\n",
        "plt.show()"
      ],
      "execution_count": 15,
      "outputs": [
        {
          "output_type": "display_data",
          "data": {
            "image/png": "[encoded data removed]",
            "text/plain": [
              "<Figure size 432x288 with 1 Axes>"
            ]
          },
          "metadata": {
            "tags": []
          }
        }
      ]
    },
    {
      "cell_type": "markdown",
      "metadata": {
        "id": "rzPWz1pjLMZ8",
        "colab_type": "text"
      },
      "source": [
        "---\n",
        "\n",
        "## Run a matched filter search on gravitational wave detector data\n",
        "\n",
        "PyCBC also maintains a catalog of open data as PyCBC time series objects, easy to manipulate with PyCBC tools. Let's try using that and importing the data around the first detection, GW150914. \n"
      ]
    },
    {
      "cell_type": "code",
      "metadata": {
        "id": "0p7jrBGXLMZ-",
        "colab_type": "code",
        "colab": {
          "base_uri": "https://localhost:8080/",
          "height": 52
        },
        "outputId": "2c2af09d-94fe-40cb-d73c-853eb55d0208"
      },
      "source": [
        "from pycbc.catalog import Merger\n",
        "from pycbc.filter import resample_to_delta_t, highpass\n",
        "\n",
        "merger = Merger(\"GW150914\")\n",
        "\n",
        "# Get the data from the Hanford detector\n",
        "strain = merger.strain('H1')"
      ],
      "execution_count": 16,
      "outputs": [
        {
          "output_type": "stream",
          "text": [
            "Downloading https://www.gw-openscience.org/catalog/GWTC-1-confident/filelist/ [Done]\n",
            "Downloading https://www.gw-openscience.org/catalog/GWTC-1-confident/data/GW150914/H-H1_GWOSC_4KHZ_R1-1126259447-32.gwf [Done]\n"
          ],
          "name": "stdout"
        }
      ]
    },
    {
      "cell_type": "markdown",
      "metadata": {
        "id": "xPaz5ArVLMaD",
        "colab_type": "text"
      },
      "source": [
        "### Data pre-conditioning \n",
        "\n",
        "Once we've imported the open data from this alternate source, the first thing we'll need to do is **pre-condition** the data. This serves a few purposes: \n",
        "* 1) reduces the dynamic range of the data\n",
        "* 2) supresses high amplitudes at low frequencies, which can introduce numerical artifacts\n",
        "* 3) if we don't need high frequency information, downsampling allows us to compute our matched filter result faster\n",
        "\n",
        "Let's try highpassing above 15 Hz and downsampling to 2048 Hz, and we'll make a plot to see what the result looks like:"
      ]
    },
    {
      "cell_type": "code",
      "metadata": {
        "id": "5QvxGrtlLMaE",
        "colab_type": "code",
        "outputId": "8849da2a-f585-4741-b50c-8b233c6146d2",
        "colab": {
          "base_uri": "https://localhost:8080/",
          "height": 307
        }
      },
      "source": [
        "# Remove the low frequency content and downsample the data to 2048Hz\n",
        "strain = resample_to_delta_t(highpass(strain, 15.0), 1.0/2048)\n",
        "\n",
        "plt.plot(strain.sample_times, strain)\n",
        "plt.xlabel('Time (s)')"
      ],
      "execution_count": 17,
      "outputs": [
        {
          "output_type": "execute_result",
          "data": {
            "text/plain": [
              "Text(0.5, 0, 'Time (s)')"
            ]
          },
          "metadata": {
            "tags": []
          },
          "execution_count": 17
        },
        {
          "output_type": "display_data",
          "data": {
            "image/png": "[encoded data removed]",
            "text/plain": [
              "<Figure size 432x288 with 1 Axes>"
            ]
          },
          "metadata": {
            "tags": []
          }
        }
      ]
    },
    {
      "cell_type": "markdown",
      "metadata": {
        "id": "gb35trtzLMaL",
        "colab_type": "text"
      },
      "source": [
        "Notice the large amplitude excursions in the data at the start and end of our data segment. This is **spectral leakage** caused by filters we applied to the boundaries ringing off the discontinuities where the data suddenly starts and ends (for a time up to the length of the filter).\n",
        "\n",
        "To avoid this we should trim the ends of the data in all steps of our filtering. Let's try cropping a couple seconds off of either side. "
      ]
    },
    {
      "cell_type": "code",
      "metadata": {
        "id": "oz-v_p-YLMaM",
        "colab_type": "code",
        "outputId": "b6ff9428-bd61-43f3-8d45-3114c831a773",
        "colab": {
          "base_uri": "https://localhost:8080/",
          "height": 307
        }
      },
      "source": [
        "# Remove 2 seconds of data from both the beginning and end\n",
        "conditioned = strain.crop(2, 2)\n",
        "\n",
        "plt.plot(conditioned.sample_times, conditioned)\n",
        "plt.xlabel('Time (s)')"
      ],
      "execution_count": 18,
      "outputs": [
        {
          "output_type": "execute_result",
          "data": {
            "text/plain": [
              "Text(0.5, 0, 'Time (s)')"
            ]
          },
          "metadata": {
            "tags": []
          },
          "execution_count": 18
        },
        {
          "output_type": "display_data",
          "data": {
            "image/png": "[encoded data removed]",
            "text/plain": [
              "<Figure size 432x288 with 1 Axes>"
            ]
          },
          "metadata": {
            "tags": []
          }
        }
      ]
    },
    {
      "cell_type": "markdown",
      "metadata": {
        "id": "BohMb2xrLMaS",
        "colab_type": "text"
      },
      "source": [
        "That's better. \n",
        "\n",
        "### Calculating the spectral density of the data\n",
        "\n",
        "Optimal matched filtering requires *whitening*; weighting the frequency components of the potential signal and data by the estimated noise amplitude.\n",
        "\n",
        "Let's compute the power spectral density (PSD) of our conditioned data. \n"
      ]
    },
    {
      "cell_type": "code",
      "metadata": {
        "id": "bB482KNoLMaT",
        "colab_type": "code",
        "colab": {}
      },
      "source": [
        "from pycbc.psd import interpolate, inverse_spectrum_truncation\n",
        "# Estimate the power spectral density\n",
        "\n",
        "# We use 4 second samles of our time series in Welch method.\n",
        "psd = conditioned.psd(4)\n",
        "\n",
        "# Now that we have the psd we need to interpolate it to match our data\n",
        "# and then limit the filter length of 1 / PSD. After this, we can\n",
        "# directly use this PSD to filter the data in a controlled manner\n",
        "\n",
        "psd = interpolate(psd, conditioned.delta_f)\n",
        "\n",
        "# 1/PSD will now act as a filter with an effective length of 4 seconds\n",
        "# Since the data has been highpassed above 15 Hz, and will have low values\n",
        "# below this we need to informat the function to not include frequencies\n",
        "# below this frequency. \n",
        "psd = inverse_spectrum_truncation(psd, 4 * conditioned.sample_rate,\n",
        "                                  low_frequency_cutoff=15)"
      ],
      "execution_count": 0,
      "outputs": []
    },
    {
      "cell_type": "markdown",
      "metadata": {
        "id": "D6aClmyRLMaX",
        "colab_type": "text"
      },
      "source": [
        "\n",
        "----\n",
        "\n",
        "### Define a signal model \n",
        "\n",
        "Recall that matched filtering is essentially integrating the inner product between your data and your signal model in frequency or time (after weighting frequencies correctly) as you slide your signal model over your data in time. \n",
        "\n",
        "If there is a signal in the data that matches your 'template', we will see a large value of this inner product (the SNR, or 'signal to noise ratio') at that time.\n",
        "\n",
        "In a full search, we would grid over the parameters and calculate the SNR time series for each template in our template bank\n",
        "\n",
        "Here we'll define just one template. Let's assume equal masses (which is within the posterior probability of GW150914). Because we want to match our signal model with each time sample in our data, let's also rescale our signal model vector to match the same number of time samples as our data vector (**<- very important!**). \n",
        "\n",
        "Let's also plot the output to see what it looks like. "
      ]
    },
    {
      "cell_type": "code",
      "metadata": {
        "id": "g4ahXQ3-LMaZ",
        "colab_type": "code",
        "outputId": "b140bc2d-5371-4e47-ad09-1fc32a5c1662",
        "colab": {
          "base_uri": "https://localhost:8080/",
          "height": 307
        }
      },
      "source": [
        "m = 36 # Solar masses\n",
        "hp, hc = get_td_waveform(approximant=\"SEOBNRv4_opt\",\n",
        "                     mass1=m,\n",
        "                     mass2=m,\n",
        "                     delta_t=conditioned.delta_t,\n",
        "                     f_lower=20)\n",
        "\n",
        "# We should resize the vector of our template to match our data\n",
        "hp.resize(len(conditioned))\n",
        "plt.plot(hp)\n",
        "plt.xlabel('Time samples')"
      ],
      "execution_count": 20,
      "outputs": [
        {
          "output_type": "execute_result",
          "data": {
            "text/plain": [
              "Text(0.5, 0, 'Time samples')"
            ]
          },
          "metadata": {
            "tags": []
          },
          "execution_count": 20
        },
        {
          "output_type": "display_data",
          "data": {
            "image/png": "[encoded data removed]",
            "text/plain": [
              "<Figure size 432x288 with 1 Axes>"
            ]
          },
          "metadata": {
            "tags": []
          }
        }
      ]
    },
    {
      "cell_type": "markdown",
      "metadata": {
        "id": "W2ZQJGWOLMag",
        "colab_type": "text"
      },
      "source": [
        "Note that the waveform template currently begins at the start of the vector. However, we want our SNR time series (the inner product between our data and our template) to track with the approximate merger time. To do this, we need to shift our template so that the merger is approximately at the first bin of the data.\n",
        "\n",
        "For this reason, waveforms returned from `get_td_waveform` have their merger stamped with time zero, so we can easily shift the merger into the right position to compute our SNR time series. \n",
        "\n",
        "Let's try shifting our template time and plot the output. "
      ]
    },
    {
      "cell_type": "code",
      "metadata": {
        "id": "FVJZN8yGLMag",
        "colab_type": "code",
        "outputId": "42122458-a416-41d6-e646-40a25bc048d8",
        "colab": {
          "base_uri": "https://localhost:8080/",
          "height": 307
        }
      },
      "source": [
        "template = hp.cyclic_time_shift(hp.start_time)\n",
        "plt.plot(template)\n",
        "plt.xlabel('Time samples')"
      ],
      "execution_count": 21,
      "outputs": [
        {
          "output_type": "execute_result",
          "data": {
            "text/plain": [
              "Text(0.5, 0, 'Time samples')"
            ]
          },
          "metadata": {
            "tags": []
          },
          "execution_count": 21
        },
        {
          "output_type": "display_data",
          "data": {
            "image/png": "[encoded data removed]",
            "text/plain": [
              "<Figure size 432x288 with 1 Axes>"
            ]
          },
          "metadata": {
            "tags": []
          }
        }
      ]
    },
    {
      "cell_type": "markdown",
      "metadata": {
        "id": "bJmbQO4ILMap",
        "colab_type": "text"
      },
      "source": [
        "---\n",
        "\n",
        "### Calculate an SNR time series\n",
        "\n",
        "Now that we've pre-conditioned our data and defined a signal model, we can compute the output of our matched filter search. "
      ]
    },
    {
      "cell_type": "code",
      "metadata": {
        "id": "AQBmpmXALMaq",
        "colab_type": "code",
        "outputId": "8ee98439-ef78-4b7e-f190-58d0739d8d1b",
        "colab": {
          "base_uri": "https://localhost:8080/",
          "height": 300
        }
      },
      "source": [
        "from pycbc.filter import matched_filter\n",
        "import numpy\n",
        "\n",
        "snr = matched_filter(template, conditioned,\n",
        "                     psd=psd, low_frequency_cutoff=20)\n",
        "\n",
        "plt.figure(figsize=[10, 4])\n",
        "plt.plot(snr.sample_times, abs(snr))\n",
        "plt.xlabel('Time (s)')\n",
        "plt.ylabel('SNR')"
      ],
      "execution_count": 22,
      "outputs": [
        {
          "output_type": "execute_result",
          "data": {
            "text/plain": [
              "Text(0, 0.5, 'SNR')"
            ]
          },
          "metadata": {
            "tags": []
          },
          "execution_count": 22
        },
        {
          "output_type": "display_data",
          "data": {
            "image/png": "[encoded data removed]",
            "text/plain": [
              "<Figure size 720x288 with 1 Axes>"
            ]
          },
          "metadata": {
            "tags": []
          }
        }
      ]
    },
    {
      "cell_type": "markdown",
      "metadata": {
        "id": "fFrr443-LMa0",
        "colab_type": "text"
      },
      "source": [
        "Note that as we expect, there is some corruption at the start and end of our SNR time series by the template filter and the PSD filter. \n",
        "\n",
        "To account for this, we can smoothly zero out 4 seconds (the length of the PSD filter) at the beginning and end for the PSD filtering. \n",
        "\n",
        "We should remove an 4 additional seconds at the beginning to account for the template length, although this is somewhat generous for so short a template. A longer signal such as from a BNS, would require much more padding at the beginning of the vector."
      ]
    },
    {
      "cell_type": "code",
      "metadata": {
        "id": "IlA0arHaLMa1",
        "colab_type": "code",
        "outputId": "08f22e91-b13c-4fef-caf1-bac153783ee1",
        "colab": {
          "base_uri": "https://localhost:8080/",
          "height": 283
        }
      },
      "source": [
        "snr = snr.crop(4 + 4, 4)\n",
        "\n",
        "plt.figure(figsize=[10, 4])\n",
        "plt.plot(snr.sample_times, abs(snr))\n",
        "plt.ylabel('Signal-to-noise')\n",
        "plt.xlabel('Time (s)')\n",
        "plt.show()"
      ],
      "execution_count": 23,
      "outputs": [
        {
          "output_type": "display_data",
          "data": {
            "image/png": "[encoded data removed]",
            "text/plain": [
              "<Figure size 720x288 with 1 Axes>"
            ]
          },
          "metadata": {
            "tags": []
          }
        }
      ]
    },
    {
      "cell_type": "markdown",
      "metadata": {
        "id": "mxDRDN91LMa8",
        "colab_type": "text"
      },
      "source": [
        "Finally, now that the output is properly cropped, we can find the peak of our SNR time series and estimate the merger time and associated SNR of any event candidate within the data. "
      ]
    },
    {
      "cell_type": "code",
      "metadata": {
        "id": "LqdgYOERLMa9",
        "colab_type": "code",
        "outputId": "338a9f53-1bce-4db9-a158-2d60d923ba5b",
        "colab": {
          "base_uri": "https://localhost:8080/",
          "height": 34
        }
      },
      "source": [
        "peak = abs(snr).numpy().argmax()\n",
        "snrp = snr[peak]\n",
        "time = snr.sample_times[peak]\n",
        "\n",
        "print(\"We found a signal at {}s with SNR {}\".format(time, \n",
        "                                                    abs(snrp)))"
      ],
      "execution_count": 24,
      "outputs": [
        {
          "output_type": "stream",
          "text": [
            "We found a signal at 1126259462.4248047s with SNR 19.677089013145917\n"
          ],
          "name": "stdout"
        }
      ]
    },
    {
      "cell_type": "markdown",
      "metadata": {
        "id": "rYHWGJvRLMbG",
        "colab_type": "text"
      },
      "source": [
        "You found the first gravitational wave detection in LIGO Hanford data! Nice work. \n",
        "\n",
        "---\n",
        "\n",
        "### Exercise 3 \n",
        "\n",
        "How does the SNR change if you re-compute the matched filter result using a signal model with compenent masses that are closer to the current estimates for GW150914, say m<sub>1</sub> = 36 M<sub>sol</sub> and m<sub>2</sub> = 31 M<sub>sol</sub>? \n"
      ]
    },
    {
      "cell_type": "code",
      "metadata": {
        "id": "RrlxipwoLMbI",
        "colab_type": "code",
        "colab": {
          "base_uri": "https://localhost:8080/",
          "height": 34
        },
        "outputId": "759c10c1-cdce-47e3-b344-eb42aca6fe85"
      },
      "source": [
        "m1, m2 = 36, 31 # Solar masses\n",
        "hp, hc = get_td_waveform(approximant=\"SEOBNRv4_opt\",\n",
        "                     mass1=m1,\n",
        "                     mass2=m2,\n",
        "                     delta_t=conditioned.delta_t,\n",
        "                     f_lower=20)\n",
        "\n",
        "# We should resize the vector of our template to match our data\n",
        "hp.resize(len(conditioned))\n",
        "template = hp.cyclic_time_shift(hp.start_time)\n",
        "\n",
        "snr = matched_filter(template, conditioned, psd=psd, low_frequency_cutoff=20)\n",
        "snr = snr.crop(4 + 4, 4)\n",
        "\n",
        "\n",
        "peak = abs(snr).numpy().argmax()\n",
        "h1_snrp = snr[peak]\n",
        "time = snr.sample_times[peak]\n",
        "\n",
        "print(\"We found a signal at {}s with SNR {}\".format(time, \n",
        "                                                    abs(h1_snrp)))"
      ],
      "execution_count": 31,
      "outputs": [
        {
          "output_type": "stream",
          "text": [
            "We found a signal at 1126259462.4262695s with SNR 17.782137743257195\n"
          ],
          "name": "stdout"
        }
      ]
    },
    {
      "cell_type": "markdown",
      "metadata": {
        "id": "ztQjd88fLMbN",
        "colab_type": "text"
      },
      "source": [
        "### Exercise 4 \n",
        "\n",
        "**Network SNR** is the quadrature sum of the single-detector SNR from each contributing detector. GW150914 was detected by H1 and L1. Try calculating the network SNR (you'll need to estimate the SNR in L1 first), and compare your answer to the network PyCBC SNR as reported in the [GWTC-1 catalog](https://arxiv.org/abs/1811.12907)."
      ]
    },
    {
      "cell_type": "code",
      "metadata": {
        "id": "uIQDl5RELMbN",
        "colab_type": "code",
        "colab": {
          "base_uri": "https://localhost:8080/",
          "height": 34
        },
        "outputId": "8963e783-cb6e-4976-cdcb-f32102028883"
      },
      "source": [
        "# We should resize the vector of our template to match our data\n",
        "hc.resize(len(conditioned))\n",
        "template = hc.cyclic_time_shift(hc.start_time)\n",
        "\n",
        "snr = matched_filter(template, conditioned, psd=psd, low_frequency_cutoff=20)\n",
        "snr = snr.crop(4 + 4, 4)\n",
        "\n",
        "\n",
        "peak = abs(snr).numpy().argmax()\n",
        "l1_snrp = snr[peak]\n",
        "time = snr.sample_times[peak]\n",
        "\n",
        "print(\"We found a signal at {}s with SNR {}\".format(time, \n",
        "                                                    abs(l1_snrp)))"
      ],
      "execution_count": 27,
      "outputs": [
        {
          "output_type": "stream",
          "text": [
            "We found a signal at 1126259462.4262695s with SNR 17.828428095986176\n"
          ],
          "name": "stdout"
        }
      ]
    },
    {
      "cell_type": "code",
      "metadata": {
        "id": "Z9lqO6K7N8jc",
        "colab_type": "code",
        "colab": {
          "base_uri": "https://localhost:8080/",
          "height": 34
        },
        "outputId": "590f21df-94e7-433e-9229-52b552122abf"
      },
      "source": [
        "network_snr = numpy.sqrt(abs(l1_snrp) ** 2 + abs(h1_snrp) ** 2)\n",
        "network_snr"
      ],
      "execution_count": 33,
      "outputs": [
        {
          "output_type": "execute_result",
          "data": {
            "text/plain": [
              "25.18049386119981"
            ]
          },
          "metadata": {
            "tags": []
          },
          "execution_count": 33
        }
      ]
    },
    {
      "cell_type": "markdown",
      "metadata": {
        "id": "gZMOYAmVLMbQ",
        "colab_type": "text"
      },
      "source": [
        "---\n",
        "\n",
        "## Estimate the single-detector significance of an event candidate\n",
        "\n",
        "Great, we found a large spike in SNR! What are the chances this is a real astrophysical signal? How often would detector noise produce this by chance?\n",
        "\n",
        "Let's plot a histogram of SNR values output by our matched filtering analysis for this time and see how much this trigger stands out. \n"
      ]
    },
    {
      "cell_type": "code",
      "metadata": {
        "id": "o2tp4UyHLMbR",
        "colab_type": "code",
        "outputId": "49f02da9-74ee-4a0f-f332-602b3889f365",
        "colab": {
          "base_uri": "https://localhost:8080/",
          "height": 301
        }
      },
      "source": [
        "# import what we need\n",
        "from scipy.stats import norm\n",
        "from math import pi \n",
        "from math import exp\n",
        "\n",
        "# make a histogram of SNR values \n",
        "background = (abs(snr))\n",
        "\n",
        "# plot the histogram to check out any other outliers\n",
        "plt.hist(background, bins=50)\n",
        "plt.xlabel('SNR')\n",
        "plt.semilogy()\n",
        "\n",
        "# use norm.fit to fit a normal (Gaussian) distribution\n",
        "(mu, sigma) = norm.fit(background)\n",
        "\n",
        "# print out the mean and standard deviation of the fit\n",
        "print('The fit mean = %f and the fit std dev = %f' %(mu, sigma))\n",
        "\n"
      ],
      "execution_count": 35,
      "outputs": [
        {
          "output_type": "stream",
          "text": [
            "The fit mean = 1.294937 and the fit std dev = 0.738261\n"
          ],
          "name": "stdout"
        },
        {
          "output_type": "display_data",
          "data": {
            "image/png": "[encoded data removed]",
            "text/plain": [
              "<Figure size 432x288 with 1 Axes>"
            ]
          },
          "metadata": {
            "tags": []
          }
        }
      ]
    },
    {
      "cell_type": "markdown",
      "metadata": {
        "id": "w_P0-RS0LMba",
        "colab_type": "text"
      },
      "source": [
        "### Exercise 5 \n",
        "\n",
        "At what single-detector SNR is the significance of a trigger > 5 sigma? \n",
        "\n",
        "Remember that sigma is constant for a normal distribution (read: this should be simple multiplication now that we have estimated what 1 sigma is). "
      ]
    },
    {
      "cell_type": "code",
      "metadata": {
        "id": "g4XwYKofLMbf",
        "colab_type": "code",
        "colab": {
          "base_uri": "https://localhost:8080/",
          "height": 34
        },
        "outputId": "010fb72f-f40f-4570-ef5d-ff7860a1a622"
      },
      "source": [
        "sigma * 5"
      ],
      "execution_count": 36,
      "outputs": [
        {
          "output_type": "execute_result",
          "data": {
            "text/plain": [
              "3.6913054435782113"
            ]
          },
          "metadata": {
            "tags": []
          },
          "execution_count": 36
        }
      ]
    },
    {
      "cell_type": "markdown",
      "metadata": {
        "id": "vOfStxBDLMbj",
        "colab_type": "text"
      },
      "source": [
        "---\n",
        "\n",
        "## Challenge\n",
        "\n",
        "Our match filter analysis assumes the noise is *stationary* and *Gaussian*, which is not a good assumption, and this short data set isn't representative of all the various things that can go bump in the detector (remember the phone?). \n",
        "\n",
        "**The simple significance estimate above won't work as soon as we encounter a glitch!** We need a better noise background estimate, and we can leverage our detector network to help make our signals stand out from our background. \n",
        "\n",
        "Observing a gravitational wave signal between detectors is an important cross-check to minimize the impact of transient detector noise. Our strategy:\n",
        "\n",
        "* We look for loud triggers within a time window to identify foreground events that occur within the gravitational wave travel time (v=c) between detectors, but could come from any sky position. \n",
        "* We use time slides to estimate the noise background for a network of detectors. \n",
        "\n",
        "If you still have time, try coding up an algorithm that checks for time coincidence between triggers in different detectors. Remember that the maximum gravitational wave travel time between LIGO detectors is ~10 ms. Check your code with the GPS times for the H1 and L1 triggers you identified for GW150914. "
      ]
    },
    {
      "cell_type": "code",
      "metadata": {
        "id": "uYng66Y4LMbk",
        "colab_type": "code",
        "colab": {}
      },
      "source": [
        "# complete if time "
      ],
      "execution_count": 0,
      "outputs": []
    },
    {
      "cell_type": "markdown",
      "metadata": {
        "id": "FN_iAgYuLMbo",
        "colab_type": "text"
      },
      "source": [
        "---\n",
        "\n",
        "## Challenge  2\n",
        "\n",
        "Could you use a matched filter to classify LSST time series observations? \n",
        "\n",
        "What would you need in order to accomplish this? \n",
        "\n",
        "*Hint* –– think about the ways in which LSST observations and LIGO observations differ.\n"
      ]
    },
    {
      "cell_type": "markdown",
      "metadata": {
        "id": "BywT5HzcLMbo",
        "colab_type": "text"
      },
      "source": [
        "You would also need to account for:\n",
        "\n",
        "Different color optical passbands\n",
        "Unevenly-sampled observations\n",
        "Photometric uncertainties"
      ]
    }
  ]
}
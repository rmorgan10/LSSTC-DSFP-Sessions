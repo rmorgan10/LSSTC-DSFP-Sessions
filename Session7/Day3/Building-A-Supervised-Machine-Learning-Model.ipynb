{
 "cells": [
  {
   "cell_type": "markdown",
   "metadata": {},
   "source": [
    "# Building a Supervised Machine Learning Model\n",
    "\n",
    "The objective of this hands-on activity is to create and evaluate a Real-Bogus classifier using ZTF alert data.  We will use the same data from the Day 2 clustering exercise (see [that notebook](https://github.com/LSSTC-DSFP/LSSTC-DSFP-Sessions/blob/master/Session7/Day2/Clustering-Astronomical-Sources.ipynb) to download the data).  \n",
    "\n",
    "1. Load data\n",
    "2. Examine features\n",
    "3. Curate a test and training set\n",
    "4. Train classifiers\n",
    "5. Compare the performance of different learning algorithms\n",
    "\n",
    "#### What's Not Covered\n",
    "\n",
    "There are many topics to cover, and due to time constraints, we cannot cover them all.  Omitted is a discussion of [cross validation](http://scikit-learn.org/stable/modules/cross_validation.html) and [hyperparameter tuning](http://scikit-learn.org/stable/modules/grid_search.html).  I encourage you to click through and read those articles by sklearn."
   ]
  },
  {
   "cell_type": "markdown",
   "metadata": {},
   "source": [
    "### 0a. Imports\n",
    "\n",
    "These are all the imports that will be used in this notebook.  All should be available in the DSFP conda environment."
   ]
  },
  {
   "cell_type": "code",
   "execution_count": 1,
   "metadata": {},
   "outputs": [],
   "source": [
    "import numpy as np\n",
    "from sklearn.preprocessing import Imputer\n",
    "from sklearn.preprocessing import MinMaxScaler, StandardScaler\n",
    "%matplotlib inline\n",
    "import matplotlib.pyplot as plt\n",
    "import pandas as pd\n",
    "import seaborn as sns"
   ]
  },
  {
   "cell_type": "markdown",
   "metadata": {},
   "source": [
    "### 0b. Data Location\n",
    "\n",
    "Please specify paths for the following:"
   ]
  },
  {
   "cell_type": "code",
   "execution_count": 2,
   "metadata": {},
   "outputs": [],
   "source": [
    "F_META = '/home/rmorgan/Dropbox/Linux-Windows_Shared/DSFP/dsfp_ztf_meta.npy'\n",
    "F_FEATS = '/home/rmorgan/Dropbox/Linux-Windows_Shared/DSFP/dsfp_ztf_feats.npy'\n",
    "D_STAMPS = '/home/rmorgan/Dropbox/Linux-Windows_Shared/DSFP/dsfp_ztf_png_stamps'"
   ]
  },
  {
   "cell_type": "markdown",
   "metadata": {},
   "source": [
    "# 1. Load Data\n",
    "\n",
    "Please note that I have made some adjustments to the data.  \n",
    "\n",
    "- I have created a dataframe (feats_df) from feats_np\n",
    "- I have also dropped columns from feats_df.  Some were irrelevant to classification, and some contained a lot of NaNs."
   ]
  },
  {
   "cell_type": "code",
   "execution_count": 4,
   "metadata": {},
   "outputs": [
    {
     "name": "stdout",
     "output_type": "stream",
     "text": [
      "There are 19 columns left.\n",
      "They are: ['diffmaglim', 'magpsf', 'sigmapsf', 'chipsf', 'magap', 'sigmagap', 'sky', 'magdiff', 'fwhm', 'mindtoedge', 'magfromlim', 'seeratio', 'aimage', 'bimage', 'elong', 'nneg', 'nbad', 'sumrat', 'label']\n"
     ]
    },
    {
     "data": {
      "text/html": [
       "<div>\n",
       "<style scoped>\n",
       "    .dataframe tbody tr th:only-of-type {\n",
       "        vertical-align: middle;\n",
       "    }\n",
       "\n",
       "    .dataframe tbody tr th {\n",
       "        vertical-align: top;\n",
       "    }\n",
       "\n",
       "    .dataframe thead th {\n",
       "        text-align: right;\n",
       "    }\n",
       "</style>\n",
       "<table border=\"1\" class=\"dataframe\">\n",
       "  <thead>\n",
       "    <tr style=\"text-align: right;\">\n",
       "      <th></th>\n",
       "      <th>diffmaglim</th>\n",
       "      <th>magpsf</th>\n",
       "      <th>sigmapsf</th>\n",
       "      <th>chipsf</th>\n",
       "      <th>magap</th>\n",
       "      <th>sigmagap</th>\n",
       "      <th>sky</th>\n",
       "      <th>magdiff</th>\n",
       "      <th>fwhm</th>\n",
       "      <th>mindtoedge</th>\n",
       "      <th>magfromlim</th>\n",
       "      <th>seeratio</th>\n",
       "      <th>aimage</th>\n",
       "      <th>bimage</th>\n",
       "      <th>elong</th>\n",
       "      <th>nneg</th>\n",
       "      <th>nbad</th>\n",
       "      <th>sumrat</th>\n",
       "      <th>label</th>\n",
       "    </tr>\n",
       "  </thead>\n",
       "  <tbody>\n",
       "    <tr>\n",
       "      <th>count</th>\n",
       "      <td>3190.000000</td>\n",
       "      <td>3190.000000</td>\n",
       "      <td>3190.000000</td>\n",
       "      <td>3190.000000</td>\n",
       "      <td>3190.000000</td>\n",
       "      <td>3190.000000</td>\n",
       "      <td>3190.000000</td>\n",
       "      <td>3190.000000</td>\n",
       "      <td>3190.000000</td>\n",
       "      <td>3190.000000</td>\n",
       "      <td>3190.000000</td>\n",
       "      <td>3190.000000</td>\n",
       "      <td>3190.000000</td>\n",
       "      <td>3190.000000</td>\n",
       "      <td>3190.000000</td>\n",
       "      <td>3190.000000</td>\n",
       "      <td>3190.000000</td>\n",
       "      <td>3190.000000</td>\n",
       "      <td>3190.000000</td>\n",
       "    </tr>\n",
       "    <tr>\n",
       "      <th>mean</th>\n",
       "      <td>20.151915</td>\n",
       "      <td>19.038766</td>\n",
       "      <td>0.114721</td>\n",
       "      <td>29.171392</td>\n",
       "      <td>18.882236</td>\n",
       "      <td>0.133377</td>\n",
       "      <td>1.759273</td>\n",
       "      <td>-0.156530</td>\n",
       "      <td>5.762724</td>\n",
       "      <td>535.662895</td>\n",
       "      <td>1.269680</td>\n",
       "      <td>-19.033703</td>\n",
       "      <td>1.447092</td>\n",
       "      <td>1.121355</td>\n",
       "      <td>1.277802</td>\n",
       "      <td>3.702508</td>\n",
       "      <td>0.827586</td>\n",
       "      <td>0.942922</td>\n",
       "      <td>0.263636</td>\n",
       "    </tr>\n",
       "    <tr>\n",
       "      <th>std</th>\n",
       "      <td>0.600403</td>\n",
       "      <td>1.182225</td>\n",
       "      <td>0.059628</td>\n",
       "      <td>184.693580</td>\n",
       "      <td>1.146221</td>\n",
       "      <td>0.090430</td>\n",
       "      <td>11.922192</td>\n",
       "      <td>0.361237</td>\n",
       "      <td>8.082798</td>\n",
       "      <td>358.128782</td>\n",
       "      <td>1.056042</td>\n",
       "      <td>140.283975</td>\n",
       "      <td>1.359441</td>\n",
       "      <td>1.081769</td>\n",
       "      <td>0.233597</td>\n",
       "      <td>2.640393</td>\n",
       "      <td>1.852272</td>\n",
       "      <td>0.093331</td>\n",
       "      <td>0.440673</td>\n",
       "    </tr>\n",
       "    <tr>\n",
       "      <th>min</th>\n",
       "      <td>16.387886</td>\n",
       "      <td>11.861366</td>\n",
       "      <td>0.000729</td>\n",
       "      <td>0.145480</td>\n",
       "      <td>11.904000</td>\n",
       "      <td>0.000900</td>\n",
       "      <td>-62.988770</td>\n",
       "      <td>-0.999049</td>\n",
       "      <td>-0.840000</td>\n",
       "      <td>10.071900</td>\n",
       "      <td>-0.689344</td>\n",
       "      <td>-999.000000</td>\n",
       "      <td>0.289000</td>\n",
       "      <td>0.256000</td>\n",
       "      <td>1.000000</td>\n",
       "      <td>0.000000</td>\n",
       "      <td>0.000000</td>\n",
       "      <td>0.400054</td>\n",
       "      <td>0.000000</td>\n",
       "    </tr>\n",
       "    <tr>\n",
       "      <th>25%</th>\n",
       "      <td>19.816405</td>\n",
       "      <td>18.404491</td>\n",
       "      <td>0.066442</td>\n",
       "      <td>1.752059</td>\n",
       "      <td>18.243625</td>\n",
       "      <td>0.062925</td>\n",
       "      <td>-0.078796</td>\n",
       "      <td>-0.387930</td>\n",
       "      <td>2.080000</td>\n",
       "      <td>233.525776</td>\n",
       "      <td>0.485384</td>\n",
       "      <td>0.392570</td>\n",
       "      <td>0.771250</td>\n",
       "      <td>0.667000</td>\n",
       "      <td>1.096764</td>\n",
       "      <td>2.000000</td>\n",
       "      <td>0.000000</td>\n",
       "      <td>0.921823</td>\n",
       "      <td>0.000000</td>\n",
       "    </tr>\n",
       "    <tr>\n",
       "      <th>50%</th>\n",
       "      <td>20.221339</td>\n",
       "      <td>19.230843</td>\n",
       "      <td>0.111248</td>\n",
       "      <td>3.588183</td>\n",
       "      <td>19.093750</td>\n",
       "      <td>0.121900</td>\n",
       "      <td>0.326771</td>\n",
       "      <td>-0.088569</td>\n",
       "      <td>3.170000</td>\n",
       "      <td>475.807602</td>\n",
       "      <td>1.019777</td>\n",
       "      <td>0.794723</td>\n",
       "      <td>1.018000</td>\n",
       "      <td>0.841000</td>\n",
       "      <td>1.201702</td>\n",
       "      <td>3.000000</td>\n",
       "      <td>0.000000</td>\n",
       "      <td>0.990973</td>\n",
       "      <td>0.000000</td>\n",
       "    </tr>\n",
       "    <tr>\n",
       "      <th>75%</th>\n",
       "      <td>20.608219</td>\n",
       "      <td>19.917913</td>\n",
       "      <td>0.167752</td>\n",
       "      <td>11.765462</td>\n",
       "      <td>19.744100</td>\n",
       "      <td>0.185475</td>\n",
       "      <td>0.891043</td>\n",
       "      <td>0.057932</td>\n",
       "      <td>6.200000</td>\n",
       "      <td>782.824844</td>\n",
       "      <td>1.860215</td>\n",
       "      <td>1.171276</td>\n",
       "      <td>1.726750</td>\n",
       "      <td>1.268000</td>\n",
       "      <td>1.395918</td>\n",
       "      <td>5.000000</td>\n",
       "      <td>0.000000</td>\n",
       "      <td>1.000000</td>\n",
       "      <td>1.000000</td>\n",
       "    </tr>\n",
       "    <tr>\n",
       "      <th>max</th>\n",
       "      <td>21.169477</td>\n",
       "      <td>21.312767</td>\n",
       "      <td>0.217133</td>\n",
       "      <td>7037.184570</td>\n",
       "      <td>21.160299</td>\n",
       "      <td>0.733300</td>\n",
       "      <td>321.040314</td>\n",
       "      <td>0.971744</td>\n",
       "      <td>118.790001</td>\n",
       "      <td>1507.777222</td>\n",
       "      <td>8.407010</td>\n",
       "      <td>116.662155</td>\n",
       "      <td>23.407000</td>\n",
       "      <td>15.154000</td>\n",
       "      <td>2.000000</td>\n",
       "      <td>13.000000</td>\n",
       "      <td>7.000000</td>\n",
       "      <td>1.000000</td>\n",
       "      <td>1.000000</td>\n",
       "    </tr>\n",
       "  </tbody>\n",
       "</table>\n",
       "</div>"
      ],
      "text/plain": [
       "        diffmaglim       magpsf     sigmapsf       chipsf        magap  \\\n",
       "count  3190.000000  3190.000000  3190.000000  3190.000000  3190.000000   \n",
       "mean     20.151915    19.038766     0.114721    29.171392    18.882236   \n",
       "std       0.600403     1.182225     0.059628   184.693580     1.146221   \n",
       "min      16.387886    11.861366     0.000729     0.145480    11.904000   \n",
       "25%      19.816405    18.404491     0.066442     1.752059    18.243625   \n",
       "50%      20.221339    19.230843     0.111248     3.588183    19.093750   \n",
       "75%      20.608219    19.917913     0.167752    11.765462    19.744100   \n",
       "max      21.169477    21.312767     0.217133  7037.184570    21.160299   \n",
       "\n",
       "          sigmagap          sky      magdiff         fwhm   mindtoedge  \\\n",
       "count  3190.000000  3190.000000  3190.000000  3190.000000  3190.000000   \n",
       "mean      0.133377     1.759273    -0.156530     5.762724   535.662895   \n",
       "std       0.090430    11.922192     0.361237     8.082798   358.128782   \n",
       "min       0.000900   -62.988770    -0.999049    -0.840000    10.071900   \n",
       "25%       0.062925    -0.078796    -0.387930     2.080000   233.525776   \n",
       "50%       0.121900     0.326771    -0.088569     3.170000   475.807602   \n",
       "75%       0.185475     0.891043     0.057932     6.200000   782.824844   \n",
       "max       0.733300   321.040314     0.971744   118.790001  1507.777222   \n",
       "\n",
       "        magfromlim     seeratio       aimage       bimage        elong  \\\n",
       "count  3190.000000  3190.000000  3190.000000  3190.000000  3190.000000   \n",
       "mean      1.269680   -19.033703     1.447092     1.121355     1.277802   \n",
       "std       1.056042   140.283975     1.359441     1.081769     0.233597   \n",
       "min      -0.689344  -999.000000     0.289000     0.256000     1.000000   \n",
       "25%       0.485384     0.392570     0.771250     0.667000     1.096764   \n",
       "50%       1.019777     0.794723     1.018000     0.841000     1.201702   \n",
       "75%       1.860215     1.171276     1.726750     1.268000     1.395918   \n",
       "max       8.407010   116.662155    23.407000    15.154000     2.000000   \n",
       "\n",
       "              nneg         nbad       sumrat        label  \n",
       "count  3190.000000  3190.000000  3190.000000  3190.000000  \n",
       "mean      3.702508     0.827586     0.942922     0.263636  \n",
       "std       2.640393     1.852272     0.093331     0.440673  \n",
       "min       0.000000     0.000000     0.400054     0.000000  \n",
       "25%       2.000000     0.000000     0.921823     0.000000  \n",
       "50%       3.000000     0.000000     0.990973     0.000000  \n",
       "75%       5.000000     0.000000     1.000000     1.000000  \n",
       "max      13.000000     7.000000     1.000000     1.000000  "
      ]
     },
     "execution_count": 4,
     "metadata": {},
     "output_type": "execute_result"
    }
   ],
   "source": [
    "meta_np = np.load(F_META)\n",
    "feats_np = np.load(F_FEATS)\n",
    "\n",
    "COL_NAMES = ['diffmaglim', 'magpsf', 'sigmapsf', 'chipsf', 'magap', 'sigmagap',\n",
    "             'distnr', 'magnr', 'sigmagnr', 'chinr', 'sharpnr', 'sky',\n",
    "             'magdiff', 'fwhm', 'classtar', 'mindtoedge', 'magfromlim', 'seeratio',\n",
    "             'aimage', 'bimage', 'aimagerat', 'bimagerat', 'elong', 'nneg',\n",
    "             'nbad', 'ssdistnr', 'ssmagnr', 'sumrat', 'magapbig', 'sigmagapbig',\n",
    "             'ndethist', 'ncovhist', 'jdstarthist', 'jdendhist', 'scorr', 'label']\n",
    "\n",
    "# NOTE FROM Umaa: I've decided to eliminate the following features. Dropping them.\n",
    "#\n",
    "COL_TO_DROP = ['ndethist', 'ncovhist', 'jdstarthist', 'jdendhist', \n",
    "               'distnr', 'magnr', 'sigmagnr', 'chinr', 'sharpnr', \n",
    "               'classtar', 'ssdistnr', 'ssmagnr', 'aimagerat', 'bimagerat', \n",
    "               'magapbig', 'sigmagapbig', 'scorr']\n",
    "full_feats_df = pd.DataFrame(data=feats_np, index=meta_np['candid'], columns=COL_NAMES)\n",
    "print(\"There are {} columns left.\".format(len(feats_df.columns)))\n",
    "print(\"They are: {}\".format(list(feats_df.columns)))\n",
    "feats_df = full_feats_df.drop(columns=COL_TO_DROP, inplace=False) \n",
    "feats_df.describe()"
   ]
  },
  {
   "cell_type": "code",
   "execution_count": 5,
   "metadata": {},
   "outputs": [
    {
     "name": "stdout",
     "output_type": "stream",
     "text": [
      "There are 841 real and 2349 bogus examples in this labeled set.\n"
     ]
    }
   ],
   "source": [
    "# INSTRUCTION: How many real and bogus examples are in this labeled set\n",
    "#\n",
    "num_real = feats_df[feats_df['label'] == 1.0].shape[0]\n",
    "num_bogus = feats_df[feats_df['label'] == 0.0].shape[0]\n",
    "print(\"There are {0} real and {1} bogus examples in this labeled set.\".format(num_real, num_bogus))"
   ]
  },
  {
   "cell_type": "markdown",
   "metadata": {},
   "source": [
    "## 2. Plot Features\n",
    "\n",
    "Examine each individual feature. You may use the subroutine below, or code of your own devising. Note the features that are continuous vs categorial, and those that have outliers.  There are certain features that have sentinel values.  You may wish to view some features on a log scale.\n",
    "\n",
    "#### Question: Which features seem to have pathologies? Which features should we exclude?"
   ]
  },
  {
   "cell_type": "code",
   "execution_count": 14,
   "metadata": {
    "scrolled": true
   },
   "outputs": [],
   "source": [
    "# Histogram a Single Feature\n",
    "#\n",
    "def plot_rb_hists(df, colname, bins=100, xscale='log', yscale='linear'):\n",
    "    mask_real = feats_df['label'] == 1\n",
    "    mask_bogus = ~mask_real\n",
    "    plt.hist(df[colname][mask_real], bins, color='b', alpha=0.5, density=True)\n",
    "    plt.hist(df[colname][mask_bogus], bins, color='r', alpha=0.5, density=True)\n",
    "    plt.xscale(xscale)\n",
    "    plt.yscale(yscale)\n",
    "    plt.title(colname)\n",
    "    plt.xlim(xmin, xmax)\n",
    "    plt.show()\n",
    "\n"
   ]
  },
  {
   "cell_type": "code",
   "execution_count": 15,
   "metadata": {},
   "outputs": [
    {
     "ename": "NameError",
     "evalue": "name 'xmin' is not defined",
     "output_type": "error",
     "traceback": [
      "\u001b[0;31m---------------------------------------------------------------------------\u001b[0m",
      "\u001b[0;31mNameError\u001b[0m                                 Traceback (most recent call last)",
      "\u001b[0;32m<ipython-input-15-3e759e94b8bd>\u001b[0m in \u001b[0;36m<module>\u001b[0;34m\u001b[0m\n\u001b[1;32m      1\u001b[0m \u001b[0;31m# INSTRUCTION: Plot the individual features.\u001b[0m\u001b[0;34m\u001b[0m\u001b[0;34m\u001b[0m\u001b[0m\n\u001b[0;32m----> 2\u001b[0;31m \u001b[0mplot_rb_hists\u001b[0m\u001b[0;34m(\u001b[0m\u001b[0mfeats_df\u001b[0m\u001b[0;34m,\u001b[0m \u001b[0;34m'sky'\u001b[0m\u001b[0;34m)\u001b[0m\u001b[0;34m\u001b[0m\u001b[0m\n\u001b[0m",
      "\u001b[0;32m<ipython-input-14-b61e71d5d875>\u001b[0m in \u001b[0;36mplot_rb_hists\u001b[0;34m(df, colname, bins, xscale, yscale)\u001b[0m\n\u001b[1;32m      9\u001b[0m     \u001b[0mplt\u001b[0m\u001b[0;34m.\u001b[0m\u001b[0myscale\u001b[0m\u001b[0;34m(\u001b[0m\u001b[0myscale\u001b[0m\u001b[0;34m)\u001b[0m\u001b[0;34m\u001b[0m\u001b[0m\n\u001b[1;32m     10\u001b[0m     \u001b[0mplt\u001b[0m\u001b[0;34m.\u001b[0m\u001b[0mtitle\u001b[0m\u001b[0;34m(\u001b[0m\u001b[0mcolname\u001b[0m\u001b[0;34m)\u001b[0m\u001b[0;34m\u001b[0m\u001b[0m\n\u001b[0;32m---> 11\u001b[0;31m     \u001b[0mplt\u001b[0m\u001b[0;34m.\u001b[0m\u001b[0mxlim\u001b[0m\u001b[0;34m(\u001b[0m\u001b[0mxmin\u001b[0m\u001b[0;34m,\u001b[0m \u001b[0mxmax\u001b[0m\u001b[0;34m)\u001b[0m\u001b[0;34m\u001b[0m\u001b[0m\n\u001b[0m\u001b[1;32m     12\u001b[0m     \u001b[0mplt\u001b[0m\u001b[0;34m.\u001b[0m\u001b[0mshow\u001b[0m\u001b[0;34m(\u001b[0m\u001b[0;34m)\u001b[0m\u001b[0;34m\u001b[0m\u001b[0m\n\u001b[1;32m     13\u001b[0m \u001b[0;34m\u001b[0m\u001b[0m\n",
      "\u001b[0;31mNameError\u001b[0m: name 'xmin' is not defined"
     ]
    },
    {
     "data": {
      "image/png": "[encoded data removed]",
      "text/plain": [
       "<Figure size 432x288 with 1 Axes>"
      ]
     },
     "metadata": {
      "needs_background": "light"
     },
     "output_type": "display_data"
    }
   ],
   "source": [
    "# INSTRUCTION: Plot the individual features.  \n",
    "plot_rb_hists(feats_df, 'sky')"
   ]
  },
  {
   "cell_type": "markdown",
   "metadata": {},
   "source": [
    "#### Answer: \n",
    "\n",
    "- 'nbad' and 'nneg' are discrete features\n",
    "- 'seeratio' has a sentinel value of -999\n",
    "- There are some features that have high ranges than others.  For classifiers that are sensitive to scaling, we will need to scale the data\n",
    "- There does not appear to be good separability between real and bogus on any individual features."
   ]
  },
  {
   "cell_type": "code",
   "execution_count": 16,
   "metadata": {},
   "outputs": [],
   "source": [
    "#drop 'seeratio', 'sky'\n",
    "trimmed_feats = feats_df.drop(columns=['seeratio', 'sky'], inplace=False)"
   ]
  },
  {
   "cell_type": "markdown",
   "metadata": {},
   "source": [
    "## 3. Curate a Test and Training Set\n",
    "\n",
    "We need to reserve some of our labeled data for evaluation. This means we must split up the labeled data we have into the set used for training (training set), and the set used for evaluation (test set). Ideally, the distribution of real and bogus examples in both the training and test sets are roughly identical. One can use sklearn.model_selection.train_test_split and use the stratify option.\n",
    "\n",
    "For ZTF data, we split the training and test data by date. That way repeat observations from the same night (which might be nearly identical) cannot be split into the training and test set, and artificially inflate test performance. Also, due to the change in survey objectives, it's possible that the test set features have drifted away from the training sets.\n",
    "\n",
    "Provided is nid.npy which contains the Night IDs for ZTF. Split on nid=550 (July 5, 2018). This should leave you with roughly 500 examples in your test set.\n"
   ]
  },
  {
   "cell_type": "code",
   "execution_count": 19,
   "metadata": {},
   "outputs": [
    {
     "name": "stdout",
     "output_type": "stream",
     "text": [
      "True\n"
     ]
    }
   ],
   "source": [
    "feats_plus_label = np.array(feats_df)\n",
    "nids = meta_np['nid']\n",
    "\n",
    "train = trimmed_feats[(nids < 550)]\n",
    "test = trimmed_feats[(nids  >= 550)]\n",
    "\n",
    "y_train = train['label'].values\n",
    "y_test = test['label'].values\n",
    "X_train = train.drop(columns=['label'], inplace=False).values\n",
    "X_test = test.drop(columns=['label'], inplace=False).values\n",
    "\n",
    "# INSTRUCTION: nid.npy contains the nids for this labeled data.\n",
    "# Split the data into separate data structures for train/test data at nid=500.\n",
    "# Verify that you have at least 500 reals in your test set.\n",
    "\n",
    "print(X_test.shape[0] > 500)"
   ]
  },
  {
   "cell_type": "markdown",
   "metadata": {},
   "source": [
    "## 4. Train a Classifier\n",
    "\n",
    "#### Part 1: Separate Labels from the Features\n",
    "\n",
    "Now store the labels separately from the features.  "
   ]
  },
  {
   "cell_type": "code",
   "execution_count": null,
   "metadata": {},
   "outputs": [],
   "source": [
    "# INSTRUCTION: Separate the labels from the features\n"
   ]
  },
  {
   "cell_type": "markdown",
   "metadata": {},
   "source": [
    "#### Part 2. Scaling Data\n",
    "\n",
    "With missing values handled, you're closing to training your classifiers.  However, because distance metrics can be sensitive to the scale of your data (e.g., some features span large numeric ranges, but others don't), it is important to normalize data within a standard range such as (0, 1) or with z-score normalization (scaling to unit mean and variance).  Fortunately, sklearn also makes this quite easy.  Please review sklearn's [preprocessing](http://scikit-learn.org/stable/modules/classes.html#module-sklearn.preprocessing) module options, specifically StandardScaler which corresponds to z-score normalization and MinMaxScaler.  Please implement one.  \n",
    "\n",
    "FYI - Neural networks and Support Vector Machines (SVM) are sensitive to the scale of the data.  Decision trees (and therefore Random Forests) are not (but it doesn't hurt to use scaled data)."
   ]
  },
  {
   "cell_type": "code",
   "execution_count": 20,
   "metadata": {},
   "outputs": [],
   "source": [
    "# INSTRUCTION: Re-scale your data using either the MinMaxScaler or StandardScaler from sklearn\n",
    "X_train_scaled = StandardScaler().fit_transform(X_train)\n",
    "X_test_scaled = StandardScaler().fit_transform(X_test)\n"
   ]
  },
  {
   "cell_type": "markdown",
   "metadata": {},
   "source": [
    "#### Part 3. Train Classifiers\n",
    "\n",
    "Import a few classifiers and build models on your training data.  Some suggestions include a [Support Vector Machine](http://scikit-learn.org/stable/modules/generated/sklearn.svm.SVC.html#sklearn.svm.SVC), [Random Forest](http://scikit-learn.org/stable/modules/generated/sklearn.ensemble.RandomForestClassifier.html#sklearn.ensemble.RandomForestClassifier), [Neural Net](http://scikit-learn.org/stable/modules/generated/sklearn.neural_network.MLPClassifier.html#sklearn.neural_network.MLPClassifier), [NaiveBayes](http://scikit-learn.org/stable/modules/generated/sklearn.naive_bayes.GaussianNB.html#sklearn.naive_bayes.GaussianNB) and [K-Nearest Neighbor](http://scikit-learn.org/stable/modules/generated/sklearn.neighbors.KNeighborsClassifier.html#sklearn.neighbors.KNeighborsClassifier).  "
   ]
  },
  {
   "cell_type": "code",
   "execution_count": 30,
   "metadata": {},
   "outputs": [],
   "source": [
    "from sklearn.neural_network import MLPClassifier\n",
    "from sklearn.neighbors import KNeighborsClassifier\n",
    "from sklearn.svm import SVC\n",
    "from sklearn.tree import DecisionTreeClassifier\n",
    "from sklearn.ensemble import RandomForestClassifier\n",
    "from sklearn.naive_bayes import GaussianNB\n",
    "\n",
    "knn3 = KNeighborsClassifier(3)\n",
    "svml = SVC(kernel=\"linear\", C=0.025, probability=True)\n",
    "svmr = SVC(gamma=2, C=1, probability=True)\n",
    "dtre = DecisionTreeClassifier()\n",
    "rafo = RandomForestClassifier(n_estimators=100)\n",
    "nnet = MLPClassifier(alpha=1)\n",
    "naiv = GaussianNB()\n",
    "\n",
    "# INSTRUCTION: Train at least three classifiers and run on your test data. Here's an example to get your started.  \n",
    "# \n",
    "\n",
    "\n",
    "#rafo.fit(train_feats, train_labels)\n",
    "#rafo_scores = rafo.predict_proba(test_feats)[:,1]\n",
    "\n",
    "\n",
    "# INSTRUCTION: Print out the following metrics per classifier into a table: accuracy, auc, f1_score, etc.\n",
    "# "
   ]
  },
  {
   "cell_type": "code",
   "execution_count": 32,
   "metadata": {},
   "outputs": [
    {
     "data": {
      "text/plain": [
       "GaussianNB(priors=None, var_smoothing=1e-09)"
      ]
     },
     "execution_count": 32,
     "metadata": {},
     "output_type": "execute_result"
    }
   ],
   "source": [
    "knn3.fit(X_train_scaled, y_train)\n",
    "svml.fit(X_train_scaled, y_train)\n",
    "svmr.fit(X_train_scaled, y_train)\n",
    "dtre.fit(X_train_scaled, y_train)\n",
    "rafo.fit(X_train_scaled, y_train)\n",
    "nnet.fit(X_train_scaled, y_train)\n",
    "naiv.fit(X_train_scaled, y_train)"
   ]
  },
  {
   "cell_type": "code",
   "execution_count": 38,
   "metadata": {},
   "outputs": [],
   "source": [
    "knn3_pred = knn3.score(X_train_scaled, y_train)\n",
    "smvl_pred = svml.score(X_train_scaled, y_train)\n",
    "svmr_pred = svmr.score(X_train_scaled, y_train)\n",
    "dtre_pred = dtre.score(X_train_scaled, y_train)\n",
    "rafo_pred = rafo.score(X_train_scaled, y_train)\n",
    "nnet_pred = nnet.score(X_train_scaled, y_train)\n",
    "naiv_pred = naiv.score(X_train_scaled, y_train)"
   ]
  },
  {
   "cell_type": "code",
   "execution_count": 39,
   "metadata": {},
   "outputs": [],
   "source": [
    "knn3_pred_test = knn3.score(X_test_scaled, y_test)\n",
    "smvl_pred_test = svml.score(X_test_scaled, y_test)\n",
    "svmr_pred_test = svmr.score(X_test_scaled, y_test)\n",
    "dtre_pred_test = dtre.score(X_test_scaled, y_test)\n",
    "rafo_pred_test = rafo.score(X_test_scaled, y_test)\n",
    "nnet_pred_test = nnet.score(X_test_scaled, y_test)\n",
    "naiv_pred_test = naiv.score(X_test_scaled, y_test)"
   ]
  },
  {
   "cell_type": "code",
   "execution_count": 42,
   "metadata": {},
   "outputs": [
    {
     "name": "stdout",
     "output_type": "stream",
     "text": [
      "Classifier\tTrain Acc\tTest Acc\n",
      "------------------------------------------------------------\n",
      "knn3\t 0.921053 \t 0.587459\n",
      "svml\t 0.862229 \t 0.554455\n",
      "svmr\t 0.994582 \t 0.556106\n",
      "dtre\t 1.000000 \t 0.674917\n",
      "rafo\t 1.000000 \t 0.564356\n",
      "nnet\t 0.900155 \t 0.569307\n",
      "naiv\t 0.726780 \t 0.556106\n"
     ]
    }
   ],
   "source": [
    "classifiers = ['knn3', 'svml', 'svmr', 'dtre', 'rafo', 'nnet', 'naiv']\n",
    "train_scores = [knn3_pred, smvl_pred, svmr_pred, dtre_pred, rafo_pred, nnet_pred, naiv_pred]\n",
    "test_scores = [knn3_pred_test, smvl_pred_test, svmr_pred_test, dtre_pred_test, rafo_pred_test, nnet_pred_test, naiv_pred_test]\n",
    "print(\"Classifier\\tTrain Acc\\tTest Acc\")\n",
    "print(\"-\" * 60)\n",
    "counter = 0\n",
    "while counter < len(classifiers):\n",
    "    print(classifiers[counter] + '\\t %f \\t %f' %(train_scores[counter], test_scores[counter]))\n",
    "    counter += 1"
   ]
  },
  {
   "cell_type": "markdown",
   "metadata": {},
   "source": [
    "#### Part 4. Plot Real and Bogus Score Distributions\n",
    "\n",
    "Another way to test performance is to plot a histogram of the test set RB scores, comparing the distributions of the labeled reals vs. boguses.  The scores of the reals should be close to 1, while the scores of the boguses should be closer to 0.  The more separated the distribution of scores, the better performing your classifier is.\n",
    "\n",
    "Compare the score distributions of the classifiers you've trained.  Trying displaying as a cumulative distribution rather than straight histogram.  \n",
    "\n",
    "*Optional:* What would the decision thresholds be at the  5% false negative rate (FNR)?  What would the decision threshold be at the 1% false positive rate?"
   ]
  },
  {
   "cell_type": "code",
   "execution_count": null,
   "metadata": {},
   "outputs": [],
   "source": [
    "# INSTRUCTION: create masks for the real and bogus examples of the test set\n",
    "\n",
    "\n",
    "# INSTRUCTION: First compare the classifiers' scores on the test reals only\n",
    "#\n",
    "\n",
    "scores_list = []\n",
    "legends = ['Classifier 1', 'Classifier 2', 'Classifier 3'] # REPLACE ME\n",
    "colors = ['g', 'b', 'r'] \n",
    "rbbins = np.arange(0,1,0.001)\n",
    "\n",
    "# Comparison on real examples\n",
    "\n",
    "plt.figure()\n",
    "ax = plt.subplot(111)\n",
    "for i, scores in enumerate(scores_list):\n",
    "    # ax.hist() - COMPLETE ME\n",
    "ax.set_xlabel('RB Score')\n",
    "ax.set_ylabel('Count')\n",
    "ax.set_xbound(0, 1)\n",
    "ax.legend(legends, loc=4)\n",
    "plt.show()\n",
    "\n",
    "\n",
    "# Now perform the same comparison on bogus examples\n",
    "#"
   ]
  },
  {
   "cell_type": "markdown",
   "metadata": {},
   "source": [
    "## Refining\n",
    "\n",
    "Now it's time to go back and start experimenting with different parameters.  If you have time, create a validation set and perform a Grid Search over a set of possible hyperparameters.  Compare different classifier results using the histograms above."
   ]
  },
  {
   "cell_type": "code",
   "execution_count": 47,
   "metadata": {},
   "outputs": [],
   "source": [
    "#try knn varying n\n",
    "neighbors = range(2,31)\n",
    "train_scores = []\n",
    "test_scores = []\n",
    "for n in neighbors:\n",
    "    knn = KNeighborsClassifier(n, weights='distance')\n",
    "    knn_fit = knn.fit(X_train_scaled, y_train)\n",
    "    train_score = knn_fit.score(X_train_scaled, y_train)\n",
    "    test_score = knn_fit.score(X_test_scaled, y_test)\n",
    "    train_scores.append(train_score)\n",
    "    test_scores.append(test_score)\n",
    "    "
   ]
  },
  {
   "cell_type": "code",
   "execution_count": 49,
   "metadata": {},
   "outputs": [],
   "source": [
    "#try dtre varying max depth\n",
    "neighbors = range(2,15)\n",
    "train_scores = []\n",
    "test_scores = []\n",
    "for n in neighbors:\n",
    "    knn = DecisionTreeClassifier(max_depth=n)\n",
    "    knn_fit = knn.fit(X_train_scaled, y_train)\n",
    "    train_score = knn_fit.score(X_train_scaled, y_train)\n",
    "    test_score = knn_fit.score(X_test_scaled, y_test)\n",
    "    train_scores.append(train_score)\n",
    "    test_scores.append(test_score)\n",
    "\n"
   ]
  },
  {
   "cell_type": "code",
   "execution_count": 51,
   "metadata": {},
   "outputs": [
    {
     "data": {
      "image/png": "[encoded data removed]",
      "text/plain": [
       "<Figure size 432x288 with 1 Axes>"
      ]
     },
     "metadata": {
      "needs_background": "light"
     },
     "output_type": "display_data"
    }
   ],
   "source": [
    "plt.plot(neighbors, test_scores, marker='o', label='Test')\n",
    "plt.plot(neighbors, train_scores, marker='^', label='Train')\n",
    "plt.xlabel(\"Number of Neighbors\")\n",
    "plt.ylabel(\"Accuracy\")\n",
    "plt.title(\"Decision\")\n",
    "plt.legend()\n",
    "plt.show()"
   ]
  },
  {
   "cell_type": "code",
   "execution_count": null,
   "metadata": {},
   "outputs": [],
   "source": []
  }
 ],
 "metadata": {
  "kernelspec": {
   "display_name": "Python 3",
   "language": "python",
   "name": "python3"
  },
  "language_info": {
   "codemirror_mode": {
    "name": "ipython",
    "version": 3
   },
   "file_extension": ".py",
   "mimetype": "text/x-python",
   "name": "python",
   "nbconvert_exporter": "python",
   "pygments_lexer": "ipython3",
   "version": "3.6.6"
  }
 },
 "nbformat": 4,
 "nbformat_minor": 2
}

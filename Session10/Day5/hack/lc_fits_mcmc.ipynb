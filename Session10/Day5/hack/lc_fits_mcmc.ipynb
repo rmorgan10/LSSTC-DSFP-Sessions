{
 "cells": [
  {
   "cell_type": "markdown",
   "metadata": {},
   "source": [
    "# Fitting A Supernova Light Curve using MCMC \n",
    "\n",
    "## DSFP Session 10 Hack\n"
   ]
  },
  {
   "cell_type": "markdown",
   "metadata": {},
   "source": [
    "Get the simulated data"
   ]
  },
  {
   "cell_type": "code",
   "execution_count": 1,
   "metadata": {},
   "outputs": [
    {
     "name": "stdout",
     "output_type": "stream",
     "text": [
      "/Users/rmorgan/DSFP/LSSTC-DSFP-Sessions/Session10/Day5/hack\r\n"
     ]
    }
   ],
   "source": [
    "! pwd"
   ]
  },
  {
   "cell_type": "code",
   "execution_count": 2,
   "metadata": {},
   "outputs": [
    {
     "name": "stdout",
     "output_type": "stream",
     "text": [
      "rmorgan_DESGW_ia_test.LIST                    100%  175     2.9KB/s   00:00    \n",
      "rmorgan_DESGW_ia_test.README                  100% 5572    53.9KB/s   00:00    \n",
      "rmorgan_DESGW_ia_test.IGNORE                  100%    0     0.0KB/s   00:00    \n",
      "rmorgan_DESGW_ia_test.DUMP                    100% 2170    74.9KB/s   00:00    \n",
      "rmorgan_DESGW_ia_test_SN000001.DAT            100% 9341    58.8KB/s   00:00    \n",
      "rmorgan_DESGW_ia_test_SN000002.DAT            100% 9342   321.6KB/s   00:00    \n",
      "rmorgan_DESGW_ia_test_SN000003.DAT            100% 9279   317.4KB/s   00:00    \n",
      "rmorgan_DESGW_ia_test_SN000004.DAT            100% 9279   314.6KB/s   00:00    \n",
      "rmorgan_DESGW_ia_test_SN000005.DAT            100% 9341   170.5KB/s   00:00    \n"
     ]
    }
   ],
   "source": [
    "! scp -r rmorgan@des50.fnal.gov:/data/des41.b/data/SNDATA_ROOT/SIM/rmorgan_DESGW_ia_test ."
   ]
  },
  {
   "cell_type": "code",
   "execution_count": 5,
   "metadata": {},
   "outputs": [
    {
     "name": "stdout",
     "output_type": "stream",
     "text": [
      "lc_fits_mcmc.ipynb    \u001b[36mrmorgan_DESGW_ia_test\u001b[m\u001b[m\r\n"
     ]
    }
   ],
   "source": [
    "! ls"
   ]
  },
  {
   "cell_type": "markdown",
   "metadata": {},
   "source": [
    "Python imports"
   ]
  },
  {
   "cell_type": "code",
   "execution_count": 101,
   "metadata": {},
   "outputs": [],
   "source": [
    "import corner\n",
    "import emcee\n",
    "import matplotlib.pyplot as plt\n",
    "import numpy as np\n",
    "import pandas as pd\n",
    "import scipy.stats as st\n",
    "\n",
    "from scipy.optimize import minimize"
   ]
  },
  {
   "cell_type": "markdown",
   "metadata": {},
   "source": [
    "Define functions for light curve parsing"
   ]
  },
  {
   "cell_type": "code",
   "execution_count": 11,
   "metadata": {},
   "outputs": [],
   "source": [
    "# Open a file\n",
    "def open_dat(dat_file):\n",
    "    infile = open(dat_file, 'r')\n",
    "    lines = infile.readlines()\n",
    "    infile.close()\n",
    "    return lines\n",
    "\n",
    "# Get phot data for single dat file\n",
    "def get_terse_lc(lines):\n",
    "\n",
    "    columns = [y for y in [x.split(' ') for x in lines if x[0:8] == 'VARLIST:'][0] if y != '' and y != '\\n'][1:]\n",
    "    data = [[y for y in x.split(' ') if y != ''][1:-1] for x in lines if x[0:4] == 'OBS:']\n",
    "    df = pd.DataFrame(data=data, columns=columns)\n",
    "    \n",
    "    for col in columns:\n",
    "        if col != 'FLT' and col != 'FIELD':\n",
    "            df[col] = pd.to_numeric(df[col])\n",
    "\n",
    "    return df"
   ]
  },
  {
   "cell_type": "markdown",
   "metadata": {},
   "source": [
    "Read the 5 light curves"
   ]
  },
  {
   "cell_type": "code",
   "execution_count": 12,
   "metadata": {},
   "outputs": [],
   "source": [
    "data_dir = 'rmorgan_DESGW_ia_test/'\n",
    "lc1 = get_terse_lc(open_dat(data_dir + 'rmorgan_DESGW_ia_test_SN000001.DAT'))\n",
    "lc2 = get_terse_lc(open_dat(data_dir + 'rmorgan_DESGW_ia_test_SN000002.DAT'))\n",
    "lc3 = get_terse_lc(open_dat(data_dir + 'rmorgan_DESGW_ia_test_SN000003.DAT'))\n",
    "lc4 = get_terse_lc(open_dat(data_dir + 'rmorgan_DESGW_ia_test_SN000004.DAT'))\n",
    "lc5 = get_terse_lc(open_dat(data_dir + 'rmorgan_DESGW_ia_test_SN000005.DAT'))"
   ]
  },
  {
   "cell_type": "markdown",
   "metadata": {},
   "source": [
    "Add MAG and MAG_ERR columns to light curve dataframes"
   ]
  },
  {
   "cell_type": "code",
   "execution_count": 22,
   "metadata": {},
   "outputs": [],
   "source": [
    "def convert_fluxcal_to_mag(flux):\n",
    "    return 27.5 - 2.5 * np.log10(flux)\n",
    "\n",
    "def get_mag_and_magerr(lc):\n",
    "    mags, magerrs = [], []\n",
    "    for index, row in lc.iterrows():\n",
    "        if row['FLUXCAL'] > 0.0:\n",
    "            mags.append(convert_fluxcal_to_mag(row['FLUXCAL']))\n",
    "            magerrs.append(convert_fluxcal_to_mag(row['FLUXCAL']) - \n",
    "                           convert_fluxcal_to_mag(row['FLUXCAL'] + row['FLUXCALERR']))\n",
    "        else:\n",
    "            mags.append(35.0)\n",
    "            magerrs.append(1.0)\n",
    "            \n",
    "    return mags, magerrs\n",
    "            "
   ]
  },
  {
   "cell_type": "code",
   "execution_count": 23,
   "metadata": {},
   "outputs": [],
   "source": [
    "mags, magerrs = get_mag_and_magerr(lc1)\n",
    "lc1['MAG'] = mags\n",
    "lc1['MAGERR'] = magerrs\n",
    "\n",
    "mags, magerrs = get_mag_and_magerr(lc2)\n",
    "lc2['MAG'] = mags\n",
    "lc2['MAGERR'] = magerrs\n",
    "\n",
    "mags, magerrs = get_mag_and_magerr(lc3)\n",
    "lc3['MAG'] = mags\n",
    "lc3['MAGERR'] = magerrs\n",
    "\n",
    "mags, magerrs = get_mag_and_magerr(lc4)\n",
    "lc4['MAG'] = mags\n",
    "lc4['MAGERR'] = magerrs\n",
    "\n",
    "mags, magerrs = get_mag_and_magerr(lc5)\n",
    "lc5['MAG'] = mags\n",
    "lc5['MAGERR'] = magerrs\n"
   ]
  },
  {
   "cell_type": "markdown",
   "metadata": {},
   "source": [
    "Define a function for plotting light curves"
   ]
  },
  {
   "cell_type": "code",
   "execution_count": 31,
   "metadata": {},
   "outputs": [],
   "source": [
    "def plot_lc(lc):\n",
    "    g_lc = lc[lc['FLT'] == 'g']\n",
    "    r_lc = lc[lc['FLT'] == 'r']\n",
    "    i_lc = lc[lc['FLT'] == 'i']\n",
    "    z_lc = lc[lc['FLT'] == 'z']\n",
    "    \n",
    "    color_dict = {'g': '#377eb8', 'r': '#4daf4a', 'i': '#e41a1c', 'z': 'black'}\n",
    "    \n",
    "    plt.figure()\n",
    "    for flt in ['g', 'r', 'i', 'z']:\n",
    "        if eval(flt + '_lc.shape[0]') != 0:\n",
    "            \n",
    "            plt_df = eval(flt + '_lc')\n",
    "            \n",
    "            plt.errorbar(plt_df['MJD'], plt_df['MAG'], yerr=plt_df['MAGERR'], color=color_dict[flt], fmt='o', label=flt)\n",
    "            \n",
    "    plt.xlabel('Modified Julian Date', fontsize=18)\n",
    "    plt.ylabel('Luminosity (mag)', fontsize=18)\n",
    "    plt.ylim(24, 18)\n",
    "    plt.legend(fontsize=16)\n",
    "    plt.show()\n",
    "    "
   ]
  },
  {
   "cell_type": "code",
   "execution_count": 32,
   "metadata": {},
   "outputs": [
    {
     "data": {
      "image/png": "[encoded data removed]",
      "text/plain": [
       "<Figure size 432x288 with 1 Axes>"
      ]
     },
     "metadata": {
      "needs_background": "light"
     },
     "output_type": "display_data"
    }
   ],
   "source": [
    "plot_lc(lc1)"
   ]
  },
  {
   "cell_type": "code",
   "execution_count": 33,
   "metadata": {},
   "outputs": [
    {
     "data": {
      "image/png": "[encoded data removed]",
      "text/plain": [
       "<Figure size 432x288 with 1 Axes>"
      ]
     },
     "metadata": {
      "needs_background": "light"
     },
     "output_type": "display_data"
    }
   ],
   "source": [
    "plot_lc(lc2)"
   ]
  },
  {
   "cell_type": "code",
   "execution_count": 34,
   "metadata": {},
   "outputs": [
    {
     "data": {
      "image/png": "[encoded data removed]",
      "text/plain": [
       "<Figure size 432x288 with 1 Axes>"
      ]
     },
     "metadata": {
      "needs_background": "light"
     },
     "output_type": "display_data"
    }
   ],
   "source": [
    "plot_lc(lc3)"
   ]
  },
  {
   "cell_type": "code",
   "execution_count": 35,
   "metadata": {},
   "outputs": [
    {
     "data": {
      "image/png": "[encoded data removed]",
      "text/plain": [
       "<Figure size 432x288 with 1 Axes>"
      ]
     },
     "metadata": {
      "needs_background": "light"
     },
     "output_type": "display_data"
    }
   ],
   "source": [
    "plot_lc(lc4)"
   ]
  },
  {
   "cell_type": "code",
   "execution_count": 36,
   "metadata": {},
   "outputs": [
    {
     "data": {
      "image/png": "[encoded data removed]",
      "text/plain": [
       "<Figure size 432x288 with 1 Axes>"
      ]
     },
     "metadata": {
      "needs_background": "light"
     },
     "output_type": "display_data"
    }
   ],
   "source": [
    "plot_lc(lc5)"
   ]
  },
  {
   "cell_type": "markdown",
   "metadata": {},
   "source": [
    "## Model\n",
    "\n",
    "See the [arXiv](https://arxiv.org/pdf/1905.07422.pdf) paper here. This model is meant to broadly fit SNe light curves. We will approach it using the ensemble sampler of `emcee`."
   ]
  },
  {
   "cell_type": "markdown",
   "metadata": {},
   "source": [
    "### Predicitons"
   ]
  },
  {
   "cell_type": "code",
   "execution_count": 80,
   "metadata": {},
   "outputs": [],
   "source": [
    "def get_model_predictions(theta, t):\n",
    "    trise, tfall, t0, A, beta, c, gamma = theta\n",
    "    t1 = gamma + t0\n",
    "    \n",
    "    #define the model using the piecewise representation\n",
    "    tsmall = t[np.where(t < t1)]\n",
    "    tbig = t[np.where(t >= t1)]\n",
    "    \n",
    "    F_tsmall = (A + beta * (tsmall - t0)) / (1 + np.exp(-1.0 * (tsmall - t0) / trise))\n",
    "    F_tbig = (A + beta * (tbig - t0)) * np.exp(-1.0 * (tbig - t1) / tfall) / (1.0 + np.exp((tbig - t0) / trise))\n",
    "    \n",
    "    F = np.array([x for x in F_tsmall] + [x for x in F_tbig])\n",
    "\n",
    "    #if t < t1:\n",
    "    #    F = (A + beta * (t - t0)) / (1 + np.exp(-1.0 * (t - t0) / trise))\n",
    "    #else:\n",
    "    #    F = (A + beta * (t - t0)) * np.exp(-1.0 * (t - t1) / tfall) / (1.0 + np.exp((t - t0) / trise))\n",
    "        \n",
    "    return F"
   ]
  },
  {
   "cell_type": "markdown",
   "metadata": {},
   "source": [
    "### Priors"
   ]
  },
  {
   "cell_type": "code",
   "execution_count": 246,
   "metadata": {},
   "outputs": [],
   "source": [
    "def log_prior_full(theta, fmax, sigma_f):\n",
    "    trise, tfall, t0, A, beta, c, gamma = theta\n",
    "    contrib = 0.0\n",
    "    \n",
    "    #trise\n",
    "    if 0.01 < trise < 50: \n",
    "        contrib += np.log(1. / (50. - 0.01))\n",
    "    else:\n",
    "        return -np.inf\n",
    "    \n",
    "    #tfall\n",
    "    if 1 < trise < 300: \n",
    "        contrib += np.log(1. / (300. - 1.))\n",
    "    else:\n",
    "        return -np.inf \n",
    "    \n",
    "    #t0\n",
    "    tmin = 58693.0\n",
    "    tmax = 58733.0\n",
    "    if tmin - 50.0 < t0 < tmax + 300.0:\n",
    "        contrib += np.log(1. / (tmax + 300.0 - tmin + 50.0))\n",
    "    else:\n",
    "        return -np.inf\n",
    "    \n",
    "    #A\n",
    "    if 3 * sigma_f < A < 100 * fmax:\n",
    "        contrib += np.log(1. / (100 * fmax - 3 * sigma_f))\n",
    "    else:\n",
    "        return -np.inf\n",
    "    \n",
    "    \n",
    "    #beta\n",
    "    if -1.0 * fmax / 150.0 < beta < 0.0:\n",
    "        contrib += np.log(1. / (fmax / 150.0))\n",
    "    else:\n",
    "        return -np.inf\n",
    "    \n",
    "    #c\n",
    "    if -3.0 * sigma_f < c < 3.0 * sigma_f:\n",
    "        contrib += np.log(1. / (6.0 * sigma_f))\n",
    "    else:\n",
    "        return -np.inf\n",
    "    \n",
    "    #gamma\n",
    "    rv1 = st.norm(5, 5)\n",
    "    rv2 = st.norm(60, 30)\n",
    "    contrib += np.log((2./3.) * rv1(gamma) + (1./3.) * rv2(gamma))\n",
    "    \n",
    "    return contrib"
   ]
  },
  {
   "cell_type": "code",
   "execution_count": 247,
   "metadata": {},
   "outputs": [],
   "source": [
    "def log_prior(theta, fmax, sigma_f):\n",
    "    \n",
    "    trise, tfall, t0, A, beta, c, gamma = theta\n",
    "    contrib = 0.0\n",
    "    \n",
    "    if trise < 10 and trise > 0:\n",
    "        contrib += np.log(1./10.)\n",
    "    else:\n",
    "        return -np.inf\n",
    "    \n",
    "    if tfall > 75 and tfall < 85:\n",
    "        contrib += np.log(1./10.)\n",
    "    else:\n",
    "        return -np.inf\n",
    "    \n",
    "    if t0 > 5.87003038e+04 and t0 < 5.87103038e+04:\n",
    "        contrib += np.log(1./10.)\n",
    "    else:\n",
    "        return -np.inf\n",
    "    \n",
    "    if A > 485 and A < 495:\n",
    "        contrib += np.log(1./10.)\n",
    "    else:\n",
    "        return -np.inf\n",
    "    \n",
    "    if beta > -10 and beta < 0:\n",
    "        contrib += np.log(1./10.)\n",
    "    else:\n",
    "        return -np.inf\n",
    "    \n",
    "    if c > 25 and c < 35:\n",
    "        contrib += np.log(1./10.)\n",
    "    else:\n",
    "        return -np.inf\n",
    "    \n",
    "    if gamma > 95 and gamma < 105:\n",
    "        contrib += np.log(1./10.)\n",
    "    else:\n",
    "        return -np.inf\n",
    "    \n",
    "    return contrib\n",
    "    \n",
    "    \n",
    "    #init_me = [4, 80, 5.87053038e+04, 490, -5, 30, 100]"
   ]
  },
  {
   "cell_type": "markdown",
   "metadata": {},
   "source": [
    "### Likelihood"
   ]
  },
  {
   "cell_type": "code",
   "execution_count": 248,
   "metadata": {},
   "outputs": [],
   "source": [
    "def log_like(theta, t, f, f_unc):\n",
    "    \n",
    "    model_preds = get_model_predictions(theta, t)\n",
    "    return -0.5 * np.sum((f - model_preds)**2 / np.exp(2*f_unc) + 2*f_unc)"
   ]
  },
  {
   "cell_type": "markdown",
   "metadata": {},
   "source": [
    "### Probability"
   ]
  },
  {
   "cell_type": "code",
   "execution_count": 249,
   "metadata": {},
   "outputs": [],
   "source": [
    "def log_prob(theta, t, f, f_unc):\n",
    "    \n",
    "    fmax = np.max(f)\n",
    "    sigma_f = np.std(f)\n",
    "    \n",
    "    return log_prior(theta, fmax, sigma_f) + log_like(theta, t, f, f_unc)"
   ]
  },
  {
   "cell_type": "markdown",
   "metadata": {},
   "source": [
    "## Preprocessing\n",
    "\n",
    "Try to find the optimum so we just sample nearby"
   ]
  },
  {
   "cell_type": "code",
   "execution_count": 122,
   "metadata": {},
   "outputs": [],
   "source": [
    "def nll(*par):\n",
    "    return -1.0 * log_like(*par)\n",
    "\n",
    "def lc_chooser_nll(theta, lc, flt):\n",
    "    flt_lc = lc[lc['FLT'] == flt]\n",
    "    \n",
    "    t = flt_lc['MJD'].values\n",
    "    f = flt_lc['FLUXCAL'].values\n",
    "    f_unc = flt_lc['FLUXCALERR'].values\n",
    "    \n",
    "    return nll(theta, t, f, f_unc)"
   ]
  },
  {
   "cell_type": "code",
   "execution_count": 123,
   "metadata": {},
   "outputs": [
    {
     "name": "stdout",
     "output_type": "stream",
     "text": [
      "[ 9.96882163e+00  1.00072900e+02  5.87000218e+04  1.82774101e+04\n",
      " -5.12267807e+00  9.13251521e-02  1.12706373e-01]\n",
      "Optimizer finished with message \"Optimization terminated successfully.\" and \n",
      "      best-fit parameters [ 1.68909445e-01  1.76853740e+11  5.87003038e+04  2.29171325e+04\n",
      " -5.79350961e+03  5.26718308e+00  3.47518098e-01]\n"
     ]
    }
   ],
   "source": [
    "g_t = lc1[lc1['FLT'] == 'r']['MJD'].values\n",
    "g_f = lc1[lc1['FLT'] == 'r']['FLUXCAL'].values\n",
    "g_func = lc1[lc1['FLT'] == 'r']['FLUXCALERR'].values\n",
    "\n",
    "print(init[0])\n",
    "\n",
    "res = minimize(lc_chooser_nll, init[0],\n",
    "               args=(lc1, 'r'),\n",
    "               method='Powell')\n",
    "print('Optimizer finished with message \"{0}\" and \\n\\\n",
    "      best-fit parameters {1}'.format(res['message'], res['x']))"
   ]
  },
  {
   "cell_type": "code",
   "execution_count": 250,
   "metadata": {},
   "outputs": [],
   "source": [
    "init_best = [4, 80, 5.87053038e+04, 490, -5, 30, 100]\n",
    "\n",
    "init_best = init_best + 0.1 * np.random.randn(100, 7)\n"
   ]
  },
  {
   "cell_type": "markdown",
   "metadata": {},
   "source": [
    "## Sampling\n",
    "\n",
    "Set initial location in parameter space"
   ]
  },
  {
   "cell_type": "code",
   "execution_count": 108,
   "metadata": {},
   "outputs": [],
   "source": [
    "np.random.seed(6)\n",
    "#initialize in the center-ish of the prior\n",
    "\n",
    "trise = 10.0\n",
    "tfall = 100.0\n",
    "t0 = 58700.0\n",
    "A = 75.0 * np.median(lc1['FLUXCAL'].values)\n",
    "beta = -1.0 * np.median(lc1['FLUXCAL'].values) / 50.0\n",
    "c = 0.0\n",
    "gamma = 0.0  \n",
    "\n",
    "\n",
    "init = np.array([trise, tfall, t0, A, beta, c, gamma])\n",
    "init = init + 0.1 * np.random.randn(100, 7)"
   ]
  },
  {
   "cell_type": "markdown",
   "metadata": {},
   "source": [
    "Choose a light curve for the fit"
   ]
  },
  {
   "cell_type": "code",
   "execution_count": 125,
   "metadata": {},
   "outputs": [],
   "source": [
    "def lc_chooser(theta, lc, flt):\n",
    "    flt_lc = lc[lc['FLT'] == flt]\n",
    "    \n",
    "    t = flt_lc['MJD'].values\n",
    "    f = flt_lc['FLUXCAL'].values\n",
    "    f_unc = flt_lc['FLUXCALERR'].values\n",
    "    \n",
    "    return log_prob(theta, t, f, f_unc)"
   ]
  },
  {
   "cell_type": "code",
   "execution_count": 251,
   "metadata": {},
   "outputs": [
    {
     "name": "stderr",
     "output_type": "stream",
     "text": [
      "100%|██████████| 4000/4000 [05:37<00:00, 11.86it/s]\n"
     ]
    }
   ],
   "source": [
    "emcee_sampler = emcee.EnsembleSampler(len(init_best), 7, lc_chooser, args=(lc1, 'r'))\n",
    "emcee_sampler.run_mcmc(init_best, 4000, progress=True);"
   ]
  },
  {
   "cell_type": "code",
   "execution_count": 252,
   "metadata": {},
   "outputs": [
    {
     "ename": "AutocorrError",
     "evalue": "The chain is shorter than 50 times the integrated autocorrelation time for 7 parameter(s). Use this estimate with caution and run a longer chain!\nN/50 = 80;\ntau: [210.73343396 193.16971092 201.47510254 222.43621451 209.01406665\n 227.99159888 213.89066412]",
     "output_type": "error",
     "traceback": [
      "\u001b[0;31m---------------------------------------------------------------------------\u001b[0m",
      "\u001b[0;31mAutocorrError\u001b[0m                             Traceback (most recent call last)",
      "\u001b[0;32m<ipython-input-252-8d715f897c91>\u001b[0m in \u001b[0;36m<module>\u001b[0;34m\u001b[0m\n\u001b[0;32m----> 1\u001b[0;31m \u001b[0mtau\u001b[0m \u001b[0;34m=\u001b[0m \u001b[0memcee_sampler\u001b[0m\u001b[0;34m.\u001b[0m\u001b[0mget_autocorr_time\u001b[0m\u001b[0;34m(\u001b[0m\u001b[0;34m)\u001b[0m\u001b[0;34m\u001b[0m\u001b[0;34m\u001b[0m\u001b[0m\n\u001b[0m\u001b[1;32m      2\u001b[0m \u001b[0mprint\u001b[0m\u001b[0;34m(\u001b[0m\u001b[0;34m\"Integrated autocorrelation times:\"\u001b[0m\u001b[0;34m)\u001b[0m\u001b[0;34m\u001b[0m\u001b[0;34m\u001b[0m\u001b[0m\n\u001b[1;32m      3\u001b[0m \u001b[0;32mfor\u001b[0m \u001b[0mi\u001b[0m\u001b[0;34m,\u001b[0m \u001b[0mk\u001b[0m \u001b[0;32min\u001b[0m \u001b[0menumerate\u001b[0m\u001b[0;34m(\u001b[0m\u001b[0;34m[\u001b[0m\u001b[0;34m\"trise\"\u001b[0m\u001b[0;34m,\u001b[0m \u001b[0;34m\"tfall\"\u001b[0m\u001b[0;34m,\u001b[0m \u001b[0;34m\"t0\"\u001b[0m\u001b[0;34m,\u001b[0m \u001b[0;34m\"A\"\u001b[0m\u001b[0;34m,\u001b[0m \u001b[0;34m\"beta\"\u001b[0m\u001b[0;34m,\u001b[0m \u001b[0;34m\"c\"\u001b[0m\u001b[0;34m,\u001b[0m \u001b[0;34m\"gamma\"\u001b[0m\u001b[0;34m]\u001b[0m\u001b[0;34m)\u001b[0m\u001b[0;34m:\u001b[0m\u001b[0;34m\u001b[0m\u001b[0;34m\u001b[0m\u001b[0m\n\u001b[1;32m      4\u001b[0m     \u001b[0mprint\u001b[0m\u001b[0;34m(\u001b[0m\u001b[0;34m\"{0}: {1}\"\u001b[0m\u001b[0;34m.\u001b[0m\u001b[0mformat\u001b[0m\u001b[0;34m(\u001b[0m\u001b[0mk\u001b[0m\u001b[0;34m,\u001b[0m \u001b[0mtau\u001b[0m\u001b[0;34m[\u001b[0m\u001b[0mi\u001b[0m\u001b[0;34m]\u001b[0m\u001b[0;34m)\u001b[0m\u001b[0;34m)\u001b[0m\u001b[0;34m\u001b[0m\u001b[0;34m\u001b[0m\u001b[0m\n",
      "\u001b[0;32m~/anaconda3/envs/mcmc_dsfp/lib/python3.7/site-packages/emcee/ensemble.py\u001b[0m in \u001b[0;36mget_autocorr_time\u001b[0;34m(self, **kwargs)\u001b[0m\n\u001b[1;32m    476\u001b[0m \u001b[0;34m\u001b[0m\u001b[0m\n\u001b[1;32m    477\u001b[0m     \u001b[0;32mdef\u001b[0m \u001b[0mget_autocorr_time\u001b[0m\u001b[0;34m(\u001b[0m\u001b[0mself\u001b[0m\u001b[0;34m,\u001b[0m \u001b[0;34m**\u001b[0m\u001b[0mkwargs\u001b[0m\u001b[0;34m)\u001b[0m\u001b[0;34m:\u001b[0m\u001b[0;34m\u001b[0m\u001b[0;34m\u001b[0m\u001b[0m\n\u001b[0;32m--> 478\u001b[0;31m         \u001b[0;32mreturn\u001b[0m \u001b[0mself\u001b[0m\u001b[0;34m.\u001b[0m\u001b[0mbackend\u001b[0m\u001b[0;34m.\u001b[0m\u001b[0mget_autocorr_time\u001b[0m\u001b[0;34m(\u001b[0m\u001b[0;34m**\u001b[0m\u001b[0mkwargs\u001b[0m\u001b[0;34m)\u001b[0m\u001b[0;34m\u001b[0m\u001b[0;34m\u001b[0m\u001b[0m\n\u001b[0m\u001b[1;32m    479\u001b[0m     \u001b[0mget_autocorr_time\u001b[0m\u001b[0;34m.\u001b[0m\u001b[0m__doc__\u001b[0m \u001b[0;34m=\u001b[0m \u001b[0mBackend\u001b[0m\u001b[0;34m.\u001b[0m\u001b[0mget_autocorr_time\u001b[0m\u001b[0;34m.\u001b[0m\u001b[0m__doc__\u001b[0m\u001b[0;34m\u001b[0m\u001b[0;34m\u001b[0m\u001b[0m\n\u001b[1;32m    480\u001b[0m \u001b[0;34m\u001b[0m\u001b[0m\n",
      "\u001b[0;32m~/anaconda3/envs/mcmc_dsfp/lib/python3.7/site-packages/emcee/backends/backend.py\u001b[0m in \u001b[0;36mget_autocorr_time\u001b[0;34m(self, discard, thin, **kwargs)\u001b[0m\n\u001b[1;32m    143\u001b[0m         \"\"\"\n\u001b[1;32m    144\u001b[0m         \u001b[0mx\u001b[0m \u001b[0;34m=\u001b[0m \u001b[0mself\u001b[0m\u001b[0;34m.\u001b[0m\u001b[0mget_chain\u001b[0m\u001b[0;34m(\u001b[0m\u001b[0mdiscard\u001b[0m\u001b[0;34m=\u001b[0m\u001b[0mdiscard\u001b[0m\u001b[0;34m,\u001b[0m \u001b[0mthin\u001b[0m\u001b[0;34m=\u001b[0m\u001b[0mthin\u001b[0m\u001b[0;34m)\u001b[0m\u001b[0;34m\u001b[0m\u001b[0;34m\u001b[0m\u001b[0m\n\u001b[0;32m--> 145\u001b[0;31m         \u001b[0;32mreturn\u001b[0m \u001b[0mthin\u001b[0m \u001b[0;34m*\u001b[0m \u001b[0mautocorr\u001b[0m\u001b[0;34m.\u001b[0m\u001b[0mintegrated_time\u001b[0m\u001b[0;34m(\u001b[0m\u001b[0mx\u001b[0m\u001b[0;34m,\u001b[0m \u001b[0;34m**\u001b[0m\u001b[0mkwargs\u001b[0m\u001b[0;34m)\u001b[0m\u001b[0;34m\u001b[0m\u001b[0;34m\u001b[0m\u001b[0m\n\u001b[0m\u001b[1;32m    146\u001b[0m \u001b[0;34m\u001b[0m\u001b[0m\n\u001b[1;32m    147\u001b[0m     \u001b[0;34m@\u001b[0m\u001b[0mproperty\u001b[0m\u001b[0;34m\u001b[0m\u001b[0;34m\u001b[0m\u001b[0m\n",
      "\u001b[0;32m~/anaconda3/envs/mcmc_dsfp/lib/python3.7/site-packages/emcee/autocorr.py\u001b[0m in \u001b[0;36mintegrated_time\u001b[0;34m(x, c, tol, quiet)\u001b[0m\n\u001b[1;32m    110\u001b[0m         \u001b[0mmsg\u001b[0m \u001b[0;34m+=\u001b[0m \u001b[0;34m\"N/{0} = {1:.0f};\\ntau: {2}\"\u001b[0m\u001b[0;34m.\u001b[0m\u001b[0mformat\u001b[0m\u001b[0;34m(\u001b[0m\u001b[0mtol\u001b[0m\u001b[0;34m,\u001b[0m \u001b[0mn_t\u001b[0m\u001b[0;34m/\u001b[0m\u001b[0mtol\u001b[0m\u001b[0;34m,\u001b[0m \u001b[0mtau_est\u001b[0m\u001b[0;34m)\u001b[0m\u001b[0;34m\u001b[0m\u001b[0;34m\u001b[0m\u001b[0m\n\u001b[1;32m    111\u001b[0m         \u001b[0;32mif\u001b[0m \u001b[0;32mnot\u001b[0m \u001b[0mquiet\u001b[0m\u001b[0;34m:\u001b[0m\u001b[0;34m\u001b[0m\u001b[0;34m\u001b[0m\u001b[0m\n\u001b[0;32m--> 112\u001b[0;31m             \u001b[0;32mraise\u001b[0m \u001b[0mAutocorrError\u001b[0m\u001b[0;34m(\u001b[0m\u001b[0mtau_est\u001b[0m\u001b[0;34m,\u001b[0m \u001b[0mmsg\u001b[0m\u001b[0;34m)\u001b[0m\u001b[0;34m\u001b[0m\u001b[0;34m\u001b[0m\u001b[0m\n\u001b[0m\u001b[1;32m    113\u001b[0m         \u001b[0mlogging\u001b[0m\u001b[0;34m.\u001b[0m\u001b[0mwarning\u001b[0m\u001b[0;34m(\u001b[0m\u001b[0mmsg\u001b[0m\u001b[0;34m)\u001b[0m\u001b[0;34m\u001b[0m\u001b[0;34m\u001b[0m\u001b[0m\n\u001b[1;32m    114\u001b[0m \u001b[0;34m\u001b[0m\u001b[0m\n",
      "\u001b[0;31mAutocorrError\u001b[0m: The chain is shorter than 50 times the integrated autocorrelation time for 7 parameter(s). Use this estimate with caution and run a longer chain!\nN/50 = 80;\ntau: [210.73343396 193.16971092 201.47510254 222.43621451 209.01406665\n 227.99159888 213.89066412]"
     ]
    }
   ],
   "source": [
    "tau = emcee_sampler.get_autocorr_time()\n",
    "print(\"Integrated autocorrelation times:\")\n",
    "for i, k in enumerate([\"trise\", \"tfall\", \"t0\", \"A\", \"beta\", \"c\", \"gamma\"]):\n",
    "    print(\"{0}: {1}\".format(k, tau[i]))"
   ]
  },
  {
   "cell_type": "code",
   "execution_count": 254,
   "metadata": {},
   "outputs": [
    {
     "name": "stdout",
     "output_type": "stream",
     "text": [
      "[nan nan nan nan nan nan nan]\n"
     ]
    }
   ],
   "source": [
    "print(tau)"
   ]
  },
  {
   "cell_type": "code",
   "execution_count": 253,
   "metadata": {},
   "outputs": [
    {
     "ename": "ValueError",
     "evalue": "cannot convert float NaN to integer",
     "output_type": "error",
     "traceback": [
      "\u001b[0;31m---------------------------------------------------------------------------\u001b[0m",
      "\u001b[0;31mValueError\u001b[0m                                Traceback (most recent call last)",
      "\u001b[0;32m<ipython-input-253-2c671f816a0b>\u001b[0m in \u001b[0;36m<module>\u001b[0;34m\u001b[0m\n\u001b[0;32m----> 1\u001b[0;31m \u001b[0mtau_max\u001b[0m \u001b[0;34m=\u001b[0m \u001b[0mint\u001b[0m\u001b[0;34m(\u001b[0m\u001b[0mtau\u001b[0m\u001b[0;34m.\u001b[0m\u001b[0mmax\u001b[0m\u001b[0;34m(\u001b[0m\u001b[0;34m)\u001b[0m\u001b[0;34m)\u001b[0m\u001b[0;34m\u001b[0m\u001b[0;34m\u001b[0m\u001b[0m\n\u001b[0m\u001b[1;32m      2\u001b[0m \u001b[0memcee_samples\u001b[0m \u001b[0;34m=\u001b[0m \u001b[0memcee_sampler\u001b[0m\u001b[0;34m.\u001b[0m\u001b[0mget_chain\u001b[0m\u001b[0;34m(\u001b[0m\u001b[0mdiscard\u001b[0m\u001b[0;34m=\u001b[0m\u001b[0;36m5\u001b[0m\u001b[0;34m*\u001b[0m\u001b[0mtau_max\u001b[0m\u001b[0;34m,\u001b[0m \u001b[0mflat\u001b[0m\u001b[0;34m=\u001b[0m\u001b[0;32mTrue\u001b[0m\u001b[0;34m)\u001b[0m\u001b[0;34m\u001b[0m\u001b[0;34m\u001b[0m\u001b[0m\n\u001b[1;32m      3\u001b[0m \u001b[0memcee_samples\u001b[0m \u001b[0;34m=\u001b[0m \u001b[0mnp\u001b[0m\u001b[0;34m.\u001b[0m\u001b[0marray\u001b[0m\u001b[0;34m(\u001b[0m\u001b[0memcee_get_params\u001b[0m\u001b[0;34m(\u001b[0m\u001b[0memcee_samples\u001b[0m\u001b[0;34m.\u001b[0m\u001b[0mT\u001b[0m\u001b[0;34m)\u001b[0m\u001b[0;34m)\u001b[0m\u001b[0;34m.\u001b[0m\u001b[0mT\u001b[0m\u001b[0;34m\u001b[0m\u001b[0;34m\u001b[0m\u001b[0m\n\u001b[1;32m      4\u001b[0m \u001b[0;34m\u001b[0m\u001b[0m\n\u001b[1;32m      5\u001b[0m \u001b[0mprint\u001b[0m\u001b[0;34m(\u001b[0m\u001b[0;34m\"Effective number of samples for each parameter:\"\u001b[0m\u001b[0;34m)\u001b[0m\u001b[0;34m\u001b[0m\u001b[0;34m\u001b[0m\u001b[0m\n",
      "\u001b[0;31mValueError\u001b[0m: cannot convert float NaN to integer"
     ]
    }
   ],
   "source": [
    "tau_max = int(tau.max())\n",
    "emcee_samples = emcee_sampler.get_chain(discard=5*tau_max, flat=True)\n",
    "emcee_samples = np.array(emcee_get_params(emcee_samples.T)).T\n",
    "\n",
    "print(\"Effective number of samples for each parameter:\")\n",
    "print(len(emcee_samples) / emcee_sampler.get_autocorr_time(discard=5*tau_max))"
   ]
  },
  {
   "cell_type": "code",
   "execution_count": 271,
   "metadata": {},
   "outputs": [
    {
     "data": {
      "text/plain": [
       "(4000, 100, 7)"
      ]
     },
     "execution_count": 271,
     "metadata": {},
     "output_type": "execute_result"
    }
   ],
   "source": [
    "emcee_samples = emcee_sampler.get_chain()\n",
    "np.shape(emcee_samples)"
   ]
  },
  {
   "cell_type": "code",
   "execution_count": 274,
   "metadata": {},
   "outputs": [
    {
     "name": "stdout",
     "output_type": "stream",
     "text": [
      "[ 4.78659441e+00  7.99600161e+01  5.87052934e+04  4.90819219e+02\n",
      " -4.93209588e+00  3.00496630e+01  1.00275535e+02]\n"
     ]
    }
   ],
   "source": [
    "params = np.mean(emcee_samples, axis=1)[-1,:]\n",
    "print(params)"
   ]
  },
  {
   "cell_type": "code",
   "execution_count": 257,
   "metadata": {},
   "outputs": [
    {
     "data": {
      "text/plain": [
       "(4000, 100, 7)"
      ]
     },
     "execution_count": 257,
     "metadata": {},
     "output_type": "execute_result"
    }
   ],
   "source": [
    "np.shape(emcee_samples)"
   ]
  },
  {
   "cell_type": "code",
   "execution_count": 258,
   "metadata": {},
   "outputs": [
    {
     "data": {
      "image/png": "[encoded data removed]",
      "text/plain": [
       "<Figure size 432x288 with 1 Axes>"
      ]
     },
     "metadata": {
      "needs_background": "light"
     },
     "output_type": "display_data"
    }
   ],
   "source": [
    "for i in range(7):\n",
    "    plt.scatter(np.arange(1, 4001), emcee_samples[:,0,i])"
   ]
  },
  {
   "cell_type": "code",
   "execution_count": 268,
   "metadata": {},
   "outputs": [
    {
     "ename": "AssertionError",
     "evalue": "The input sample array must be 1- or 2-D.",
     "output_type": "error",
     "traceback": [
      "\u001b[0;31m---------------------------------------------------------------------------\u001b[0m",
      "\u001b[0;31mAssertionError\u001b[0m                            Traceback (most recent call last)",
      "\u001b[0;32m<ipython-input-268-b8f46298b10f>\u001b[0m in \u001b[0;36m<module>\u001b[0;34m\u001b[0m\n\u001b[0;32m----> 1\u001b[0;31m \u001b[0mcorner\u001b[0m\u001b[0;34m.\u001b[0m\u001b[0mcorner\u001b[0m\u001b[0;34m(\u001b[0m\u001b[0memcee_samples\u001b[0m\u001b[0;34m)\u001b[0m\u001b[0;34m\u001b[0m\u001b[0;34m\u001b[0m\u001b[0m\n\u001b[0m",
      "\u001b[0;32m~/anaconda3/envs/mcmc_dsfp/lib/python3.7/site-packages/corner/corner.py\u001b[0m in \u001b[0;36mcorner\u001b[0;34m(xs, bins, range, weights, color, smooth, smooth1d, labels, label_kwargs, show_titles, title_fmt, title_kwargs, truths, truth_color, scale_hist, quantiles, verbose, fig, max_n_ticks, top_ticks, use_math_text, hist_kwargs, **hist2d_kwargs)\u001b[0m\n\u001b[1;32m    143\u001b[0m         \u001b[0mxs\u001b[0m \u001b[0;34m=\u001b[0m \u001b[0mnp\u001b[0m\u001b[0;34m.\u001b[0m\u001b[0matleast_2d\u001b[0m\u001b[0;34m(\u001b[0m\u001b[0mxs\u001b[0m\u001b[0;34m)\u001b[0m\u001b[0;34m\u001b[0m\u001b[0;34m\u001b[0m\u001b[0m\n\u001b[1;32m    144\u001b[0m     \u001b[0;32melse\u001b[0m\u001b[0;34m:\u001b[0m\u001b[0;34m\u001b[0m\u001b[0;34m\u001b[0m\u001b[0m\n\u001b[0;32m--> 145\u001b[0;31m         \u001b[0;32massert\u001b[0m \u001b[0mlen\u001b[0m\u001b[0;34m(\u001b[0m\u001b[0mxs\u001b[0m\u001b[0;34m.\u001b[0m\u001b[0mshape\u001b[0m\u001b[0;34m)\u001b[0m \u001b[0;34m==\u001b[0m \u001b[0;36m2\u001b[0m\u001b[0;34m,\u001b[0m \u001b[0;34m\"The input sample array must be 1- or 2-D.\"\u001b[0m\u001b[0;34m\u001b[0m\u001b[0;34m\u001b[0m\u001b[0m\n\u001b[0m\u001b[1;32m    146\u001b[0m         \u001b[0mxs\u001b[0m \u001b[0;34m=\u001b[0m \u001b[0mxs\u001b[0m\u001b[0;34m.\u001b[0m\u001b[0mT\u001b[0m\u001b[0;34m\u001b[0m\u001b[0;34m\u001b[0m\u001b[0m\n\u001b[1;32m    147\u001b[0m     \u001b[0;32massert\u001b[0m \u001b[0mxs\u001b[0m\u001b[0;34m.\u001b[0m\u001b[0mshape\u001b[0m\u001b[0;34m[\u001b[0m\u001b[0;36m0\u001b[0m\u001b[0;34m]\u001b[0m \u001b[0;34m<=\u001b[0m \u001b[0mxs\u001b[0m\u001b[0;34m.\u001b[0m\u001b[0mshape\u001b[0m\u001b[0;34m[\u001b[0m\u001b[0;36m1\u001b[0m\u001b[0;34m]\u001b[0m\u001b[0;34m,\u001b[0m \u001b[0;34m\"I don't believe that you want more \"\u001b[0m\u001b[0;31m \u001b[0m\u001b[0;31m\\\u001b[0m\u001b[0;34m\u001b[0m\u001b[0;34m\u001b[0m\u001b[0m\n",
      "\u001b[0;31mAssertionError\u001b[0m: The input sample array must be 1- or 2-D."
     ]
    }
   ],
   "source": [
    "corner.corner(emcee_samples)"
   ]
  },
  {
   "cell_type": "markdown",
   "metadata": {},
   "source": [
    "# Sandbox"
   ]
  },
  {
   "cell_type": "code",
   "execution_count": 240,
   "metadata": {},
   "outputs": [],
   "source": [
    "#[\"trise\", \"tfall\", \"t0\", \"A\", \"beta\", \"c\", \"gamma\"]]\n",
    "init_best = [1.68909445e-01, 1.76853740e+11, 5.87003038e+04, 2.29171325e+04, -5.79350961e+03, 5.26718308e+00, 3.47518098e-01]\n",
    "t = lc1[lc1['FLT'] == 'r']['MJD'].values\n",
    "init_me = [4, 80, 5.87053038e+04, 490, -5, 30, 100]\n",
    "f_pred = get_model_predictions(init_me, t)"
   ]
  },
  {
   "cell_type": "code",
   "execution_count": 275,
   "metadata": {},
   "outputs": [],
   "source": [
    "f_pred_mc = get_model_predictions(params, t)"
   ]
  },
  {
   "cell_type": "code",
   "execution_count": 279,
   "metadata": {},
   "outputs": [
    {
     "data": {
      "image/png": "[encoded data removed]",
      "text/plain": [
       "<Figure size 504x432 with 1 Axes>"
      ]
     },
     "metadata": {
      "needs_background": "light"
     },
     "output_type": "display_data"
    }
   ],
   "source": [
    "plt.figure(figsize=(7, 6))\n",
    "plt.errorbar(lc1[lc1['FLT'] == 'r']['MJD'].values, lc1[lc1['FLT'] == 'r']['FLUXCAL'].values, yerr=lc1[lc1['FLT'] == 'r']['FLUXCALERR'].values * 4, fmt='o', label='Simulated SN-Ia')\n",
    "plt.plot(lc1[lc1['FLT'] == 'r']['MJD'].values, f_pred, label='Eyeballing')\n",
    "plt.plot(lc1[lc1['FLT'] == 'r']['MJD'].values, f_pred_mc, label='MCMC')\n",
    "plt.xlabel(\"Modified Julian Date\", fontsize=18)\n",
    "plt.ylabel(\"Flux Calibrated to Zeropoint 27.5\", fontsize=18)\n",
    "plt.legend(fontsize=16, loc='lower right')\n",
    "\n",
    "plt.show()"
   ]
  },
  {
   "cell_type": "code",
   "execution_count": 263,
   "metadata": {},
   "outputs": [
    {
     "data": {
      "image/png": "[encoded data removed]",
      "text/plain": [
       "<Figure size 432x288 with 1 Axes>"
      ]
     },
     "metadata": {
      "needs_background": "light"
     },
     "output_type": "display_data"
    }
   ],
   "source": [
    "plot_lc(lc1)"
   ]
  },
  {
   "cell_type": "code",
   "execution_count": null,
   "metadata": {},
   "outputs": [],
   "source": []
  }
 ],
 "metadata": {
  "kernelspec": {
   "display_name": "Python 3",
   "language": "python",
   "name": "python3"
  },
  "language_info": {
   "codemirror_mode": {
    "name": "ipython",
    "version": 3
   },
   "file_extension": ".py",
   "mimetype": "text/x-python",
   "name": "python",
   "nbconvert_exporter": "python",
   "pygments_lexer": "ipython3",
   "version": "3.7.4"
  }
 },
 "nbformat": 4,
 "nbformat_minor": 2
}

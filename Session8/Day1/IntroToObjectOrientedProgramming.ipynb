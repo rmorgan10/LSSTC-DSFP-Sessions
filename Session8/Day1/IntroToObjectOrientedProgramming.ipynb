{
 "cells": [
  {
   "cell_type": "code",
   "execution_count": null,
   "metadata": {},
   "outputs": [],
   "source": [
    "%matplotlib inline\n",
    "import numpy as np\n",
    "import matplotlib.pyplot as plt"
   ]
  },
  {
   "cell_type": "code",
   "execution_count": null,
   "metadata": {},
   "outputs": [],
   "source": [
    "def getSquareList(n):\n",
    "    arr = np.arange(n)\n",
    "    return arr ** 2\n",
    "\n",
    "getSquareList(5)"
   ]
  },
  {
   "cell_type": "code",
   "execution_count": null,
   "metadata": {},
   "outputs": [],
   "source": [
    "sq = lambda n: [i**2 for i in range(n)]\n",
    "sq(5)"
   ]
  },
  {
   "cell_type": "code",
   "execution_count": null,
   "metadata": {},
   "outputs": [],
   "source": [
    "class Observation():\n",
    "    def __init__(self, data):\n",
    "        self.data = data\n",
    "    def average(self):\n",
    "        dsum = 0\n",
    "        for i,d in enumerate(self.data):\n",
    "            dsum += d\n",
    "        average = dsum / (i+1)\n",
    "        return average"
   ]
  },
  {
   "cell_type": "code",
   "execution_count": null,
   "metadata": {},
   "outputs": [],
   "source": [
    "obs1 = Observation([0,1,2])\n",
    "obs2 = Observation([4,5,6])"
   ]
  },
  {
   "cell_type": "code",
   "execution_count": null,
   "metadata": {},
   "outputs": [],
   "source": [
    "print(obs1.average())\n",
    "print(type(obs1.average()))\n",
    "print(obs2.average())\n",
    "print(type(obs2.average()))"
   ]
  },
  {
   "cell_type": "code",
   "execution_count": null,
   "metadata": {},
   "outputs": [],
   "source": [
    "class TimeSeries(Observation):\n",
    "    def __init__(self, time, data):\n",
    "        self.time = time\n",
    "        Observation.__init__(self, data)   #could also do super(self, data)\n",
    "        if len(self.time) != len(self.data):\n",
    "            raise ValueError(\"Time and data must have same length\")\n",
    "    \n",
    "    def stop_time(self):\n",
    "        return self.time[-1]"
   ]
  },
  {
   "cell_type": "code",
   "execution_count": null,
   "metadata": {},
   "outputs": [],
   "source": [
    "tobs = TimeSeries([0,1,2], [3,4,5])"
   ]
  },
  {
   "cell_type": "code",
   "execution_count": null,
   "metadata": {},
   "outputs": [],
   "source": [
    "print(tobs.stop_time())\n",
    "print(tobs.average())"
   ]
  },
  {
   "cell_type": "code",
   "execution_count": null,
   "metadata": {},
   "outputs": [],
   "source": [
    "x = np.linspace(0, 2*np.pi, 1000)\n",
    "y_theory = np.sinc(x)\n",
    "y = y_theory + np.random.rand(1000) - 0.5"
   ]
  },
  {
   "cell_type": "code",
   "execution_count": null,
   "metadata": {},
   "outputs": [],
   "source": [
    "fig = plt.figure(figsize=(8,8))\n",
    "ax_data = fig.add_axes([0.1,0.4,0.8,0.7]) #start_x, start_y, size_x, size_y ... normalized to [0., 1.]\n",
    "ax_residual = fig.add_axes([0.1,0.1,0.8, 0.3])\n",
    "\n",
    "ax_data.plot(x,y_theory, label='sinc(x)')\n",
    "ax_data.scatter(x, y, label='data')\n",
    "ax_data.legend()\n",
    "ax_data.set_ylabel('f(x)')\n",
    "\n",
    "ax_residual.scatter(x, y-y_theory, label='residual')\n",
    "ax_residual.legend()\n",
    "ax_residual.set_xlabel('x')\n",
    "ax_residual.set_ylabel('residual')"
   ]
  },
  {
   "cell_type": "code",
   "execution_count": null,
   "metadata": {},
   "outputs": [],
   "source": []
  }
 ],
 "metadata": {
  "kernelspec": {
   "display_name": "Python 3",
   "language": "python",
   "name": "python3"
  },
  "language_info": {
   "codemirror_mode": {
    "name": "ipython",
    "version": 3
   },
   "file_extension": ".py",
   "mimetype": "text/x-python",
   "name": "python",
   "nbconvert_exporter": "python",
   "pygments_lexer": "ipython3",
   "version": "3.7.1"
  }
 },
 "nbformat": 4,
 "nbformat_minor": 2
}

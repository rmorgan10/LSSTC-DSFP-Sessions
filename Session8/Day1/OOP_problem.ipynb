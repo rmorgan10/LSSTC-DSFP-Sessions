{
 "cells": [
  {
   "cell_type": "markdown",
   "metadata": {},
   "source": [
    "# Building a Digital Orrery\n",
    "## An exercise in Object Oriented Programming\n",
    "\n",
    "**Version 0.1**\n",
    "\n",
    "It is your goal in this exercise to construct a Digital Orrery. An [orrery](https://en.wikipedia.org/wiki/Orrery) is a mechanical model of the Solar System. Here, we will generalize this to anything that is mechanically similar to *the* solar system: a collection of things bound gravitationally. \n",
    "\n",
    "\n",
    "<img src=\"https://upload.wikimedia.org/wikipedia/commons/4/48/Grand_orrery_in_Putnam_Gallery%2C_2009-11-24.jpg\" alt=\"Orrery\" width=\"600\"/>\n",
    "(image: wikimedia)\n",
    "\n",
    "\n",
    "* * *\n",
    "\n",
    "By J. S. Oishi (Bates College)"
   ]
  },
  {
   "cell_type": "code",
   "execution_count": null,
   "metadata": {},
   "outputs": [],
   "source": [
    "import numpy as np\n",
    "import matplotlib.pyplot as plt\n",
    "import sys\n",
    "from matplotlib import animation, rc\n",
    "from IPython.display import HTML\n",
    "\n",
    "%matplotlib notebook"
   ]
  },
  {
   "cell_type": "markdown",
   "metadata": {},
   "source": [
    "## Problem 1) Building a basic set of objects\n",
    "\n",
    "Our first task is to map our problem onto a set of **objects** that we **instantiate** (that is, make **instances** of) in order to solve our problem.\n",
    "\n",
    "Let's outline the scope of our problem.\n",
    "\n",
    "A solar system exists in a Universe; here we can ignore the gravitational perturbation on the Solar System from the rest of the Universe. Our model will consist of a small number of bodies containing mass. It might also contain bodies without mass, so called \"test particles\".\n",
    "\n",
    "The problem to be solved numerically is the gravitational N-body problem,\n",
    "\n",
    "$$\\ddot{\\mathbf{r}}_i = -G\\sum_{i \\ne j} \\frac{m_j \\mathbf{r}_{ij}}{r_{ij}^3},$$\n",
    "\n",
    "where $\\mathbf{r}_{ij} \\equiv \\mathbf{r_i} - \\mathbf{r_j}$. This task itself can be broken into two components: \n",
    "\n",
    "* the force calculation\n",
    "* the ODE integrator to advance $\\mathbf{r}_i$ and $\\dot{\\mathbf{r}}_i$ forward in time"
   ]
  },
  {
   "cell_type": "markdown",
   "metadata": {},
   "source": [
    "**Problem 1a**\n",
    "\n",
    "In disucssion with a classmate, sketch out a set of classes that you will need to complete this project. Don't worry about things like numerical integrators yet. \n",
    "\n",
    "Also, sketch out interfaces (start with the constructor), but don't worry about writing code right now.\n",
    "\n",
    "*Once you're done, find me and I'll give you the minimal list of objects.*"
   ]
  },
  {
   "cell_type": "code",
   "execution_count": null,
   "metadata": {},
   "outputs": [],
   "source": [
    "class particle():\n",
    "    def __init__(self, position, mass, velocity):\n",
    "        self.position = position\n",
    "        self.mass = mass\n",
    "        self.velocity = velocity\n",
    "        \n",
    "    def calc_net_force(self, list_of_particles):\n",
    "        #net_force = np.sum(np.array([self.calc_force(p) for p in list_of_particles]))\n",
    "        net_force = np.array([0., 0.])\n",
    "        for p in list_of_particles:\n",
    "            force = self.calc_force(p)\n",
    "            #print(force)\n",
    "            net_force += force     \n",
    "        #print(\" \")\n",
    "        return net_force\n",
    "    \n",
    "    def calc_force(self, other_particle):\n",
    "        G = 6.67e-11 #SI units\n",
    "        dist = self.calc_distance(other_particle)\n",
    "        if dist == 0.0: dist = 1.e-3\n",
    "        force = G * self.mass * other_particle.mass / dist **3 * (other_particle.position - self.position)\n",
    "        \n",
    "        return force\n",
    "        \n",
    "    def calc_distance(self, other_particle):\n",
    "        dist = np.sqrt((self.position[0] - other_particle.position[0])**2 + \\\n",
    "                       (self.position[1] - other_particle.position[1])**2)\n",
    "        return dist\n",
    "\n",
    "    def update_velocity_and_position(self, list_of_other_particles, delta_t):\n",
    "        net_force = self.calc_net_force(list_of_other_particles)\n",
    "        acc = net_force / self.mass\n",
    "        #new velocity\n",
    "        new_vel = acc * delta_t + self.velocity\n",
    "        self.velocity = new_vel\n",
    "        #new position\n",
    "        new_pos = 0.5 * acc * delta_t**2 + self.velocity * delta_t + self.position\n",
    "        self.position = new_pos\n",
    "        return\n",
    "        \n",
    "    "
   ]
  },
  {
   "cell_type": "code",
   "execution_count": null,
   "metadata": {},
   "outputs": [],
   "source": [
    "p1 = particle(np.array([0.,0.]), 1.989e30, np.array([0.,0.])) #sun\n",
    "p2 = particle(np.array([0.,1.496e11]), 5.972e24, np.array([3.0e4,0.])) #earth\n",
    "p3 = particle(np.array([0.,-7.785e11]), 1.898e27, np.array([-4.705e4,0.])) #jupiter"
   ]
  },
  {
   "cell_type": "code",
   "execution_count": null,
   "metadata": {},
   "outputs": [],
   "source": [
    "p1.calc_net_force([p2,p3])"
   ]
  },
  {
   "cell_type": "code",
   "execution_count": null,
   "metadata": {},
   "outputs": [],
   "source": [
    "class Universe():\n",
    "    def __init__(self, particles, time_step, total_time):\n",
    "        self.particles = particles\n",
    "        self.time_step = time_step\n",
    "        self.total_time = total_time\n",
    "        self.current_time = 0.0\n",
    "        self.x_list = []\n",
    "        self.y_list = []\n",
    "                \n",
    "    def advance(self):\n",
    "        for p in self.particles:\n",
    "            p.update_velocity_and_position(self.particles, self.time_step)\n",
    "        self.current_time += time_step\n",
    "        #return current positons for plotting\n",
    "        x = [p.position[0] for p in self.particles]\n",
    "        y = [p.position[1] for p in self.particles]\n",
    "        return x, y\n",
    "    \n",
    "    def run(self):\n",
    "        while self.current_time < self.total_time:\n",
    "            ## do the animation in here\n",
    "            x, y = self.advance()\n",
    "            \n",
    "            #track positions\n",
    "            self.x_list.append(x)\n",
    "            self.y_list.append(y)\n",
    "            \"\"\" \n",
    "            anim = animation.FuncAnimation(fig, animate, init_func=init,\n",
    "                               frames=100, interval=20, blit=True)\n",
    "            \"\"\"\n",
    "            \n",
    "            sys.stdout.write('\\rCurrent Time: %.5f' %self.current_time)\n",
    "            sys.stdout.flush()\n",
    "            "
   ]
  },
  {
   "cell_type": "code",
   "execution_count": null,
   "metadata": {},
   "outputs": [],
   "source": [
    "particles = [p1, p2, p3]\n",
    "time_step = 1.\n",
    "total_time = 100.\n",
    "\n",
    "U = Universe(particles, time_step, total_time)\n",
    "U.run()"
   ]
  },
  {
   "cell_type": "code",
   "execution_count": null,
   "metadata": {},
   "outputs": [],
   "source": [
    "import pandas as pd"
   ]
  },
  {
   "cell_type": "code",
   "execution_count": null,
   "metadata": {},
   "outputs": [],
   "source": [
    "x_df = pd.DataFrame(data=U.x_list, columns=[str(k+1) for k in range(len(particles))])\n",
    "y_df = pd.DataFrame(data=U.y_list, columns=[str(k+1) for k in range(len(particles))])"
   ]
  },
  {
   "cell_type": "code",
   "execution_count": null,
   "metadata": {
    "scrolled": false
   },
   "outputs": [],
   "source": [
    "plt.figure()\n",
    "\n",
    "for ii in range(len(particles)):\n",
    "    name = str(ii+1)\n",
    "    plt.scatter(x_df[name], y_df[name], label=name)\n",
    "\n",
    "plt.show()"
   ]
  },
  {
   "cell_type": "markdown",
   "metadata": {},
   "source": [
    "**Problem 1b**\n",
    "\n",
    "Wire them up! Now that you have the list, try them out. Python makes use of duck typing, you should too. That is, if your object has a mass `m`, a position `r` and a velocity `rdot`, it *is* a Body."
   ]
  },
  {
   "cell_type": "code",
   "execution_count": null,
   "metadata": {},
   "outputs": [],
   "source": [
    "r0 = np.array([0,0,0])\n",
    "rdot0 = np.array([0,0,0])"
   ]
  },
  {
   "cell_type": "code",
   "execution_count": null,
   "metadata": {},
   "outputs": [],
   "source": [
    "b = Body(1,r0, rdot0)"
   ]
  },
  {
   "cell_type": "markdown",
   "metadata": {},
   "source": [
    "## Problem 2\n",
    "\n",
    "Now, we code the numerical algorithms. We're going to do the most simple things possible: a *brute force* (\"direct N-Body\" if you're feeling fancy) force calculation, and a leapfrog time integrator.\n",
    "\n",
    "The leapfrog scheme is an explicit, second order scheme given by\n",
    "\n",
    "$$r_{i+1} = r_{i} + v_{i} \\Delta t + \\frac{\\Delta t^2}{2} a_{i}$$\n",
    "\n",
    "$$v_{i+1} = v_{i} + \\frac{\\Delta t}{2} (a_{i} + a_{i+1}),$$\n",
    "\n",
    "where $\\Delta t$ is the time step (which we'll just keep constant), and the subscript refers to the *iteration* number $i$. \n",
    "\n",
    "Note that this scheme requires a force update *in between* calculating $r_{i+1}$ and $v_{i+1}$."
   ]
  },
  {
   "cell_type": "markdown",
   "metadata": {},
   "source": [
    "**Problem 2a** \n",
    "\n",
    "Write a method that implements the force integrator. Test it on simple cases:\n",
    " * two equal 1 $M_\\odot$ objects in your universe, 1 AU apart\n",
    " * a $1\\ M_\\odot$ object and a $1\\ M_{\\oplus}$ object, 1 AU apart"
   ]
  },
  {
   "cell_type": "code",
   "execution_count": null,
   "metadata": {},
   "outputs": [],
   "source": []
  },
  {
   "cell_type": "markdown",
   "metadata": {
    "collapsed": true
   },
   "source": [
    "**Problem 2b**\n",
    "Write the leapfrog integration as a method in the `Universe` class. Test it on one particle with no force (what should it do?)"
   ]
  },
  {
   "cell_type": "code",
   "execution_count": null,
   "metadata": {},
   "outputs": [],
   "source": []
  },
  {
   "cell_type": "markdown",
   "metadata": {},
   "source": [
    "**Problem 2c** \n",
    " \n",
    "Wire it all up! Try a 3-body calculation of the Earth-Sun-Moon system. Try the Earth-Jupiter-Sun system! "
   ]
  },
  {
   "cell_type": "markdown",
   "metadata": {},
   "source": [
    "## Challenge Problem\n",
    "\n",
    "* Construct a visualization method for the `Universe` class\n",
    "* Read about the Fast Multipole Method (FMM) [here](https://math.nyu.edu/faculty/greengar/shortcourse_fmm.pdf) and implement one for the force calculation"
   ]
  },
  {
   "cell_type": "code",
   "execution_count": null,
   "metadata": {},
   "outputs": [],
   "source": [
    "# good luck!"
   ]
  }
 ],
 "metadata": {
  "kernelspec": {
   "display_name": "Python 3",
   "language": "python",
   "name": "python3"
  },
  "language_info": {
   "codemirror_mode": {
    "name": "ipython",
    "version": 3
   },
   "file_extension": ".py",
   "mimetype": "text/x-python",
   "name": "python",
   "nbconvert_exporter": "python",
   "pygments_lexer": "ipython3",
   "version": "3.7.1"
  }
 },
 "nbformat": 4,
 "nbformat_minor": 2
}
